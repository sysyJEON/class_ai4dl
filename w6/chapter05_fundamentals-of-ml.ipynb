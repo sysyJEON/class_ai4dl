{
  "cells": [
    {
      "cell_type": "markdown",
      "metadata": {
        "id": "jDjmHCoTxWGV"
      },
      "source": [
        "This is a companion notebook for the book [Deep Learning with Python, Second Edition](https://www.manning.com/books/deep-learning-with-python-second-edition?a_aid=keras&a_bid=76564dff). For readability, it only contains runnable code blocks and section titles, and omits everything else in the book: text paragraphs, figures, and pseudocode.\n",
        "\n",
        "**If you want to be able to follow what's going on, I recommend reading the notebook side by side with your copy of the book.**\n",
        "\n",
        "This notebook was generated for TensorFlow 2.6."
      ]
    },
    {
      "cell_type": "markdown",
      "metadata": {
        "id": "MgmMYsU7xWGb"
      },
      "source": [
        "# Fundamentals of machine learning"
      ]
    },
    {
      "cell_type": "markdown",
      "metadata": {
        "id": "yBuSub3UxWGc"
      },
      "source": [
        "## Generalization: The goal of machine learning"
      ]
    },
    {
      "cell_type": "markdown",
      "metadata": {
        "id": "kS04DC_OxWGc"
      },
      "source": [
        "### Underfitting and overfitting"
      ]
    },
    {
      "cell_type": "markdown",
      "metadata": {
        "id": "15_UZmnaxWGd"
      },
      "source": [
        "#### Noisy training data"
      ]
    },
    {
      "cell_type": "markdown",
      "metadata": {
        "id": "oGnMQsAjxWGd"
      },
      "source": [
        "#### Ambiguous features"
      ]
    },
    {
      "cell_type": "markdown",
      "metadata": {
        "id": "F91SWTm2xWGe"
      },
      "source": [
        "#### Rare features and spurious correlations"
      ]
    },
    {
      "cell_type": "markdown",
      "metadata": {
        "id": "LJ3VwKmWxWGf"
      },
      "source": [
        "**Adding white-noise channels or all-zeros channels to MNIST**"
      ]
    },
    {
      "cell_type": "code",
      "execution_count": 1,
      "metadata": {
        "id": "XhZGVoOexWGf",
        "outputId": "fd9a069b-f1e1-46ae-8782-064810dd866d",
        "colab": {
          "base_uri": "https://localhost:8080/"
        }
      },
      "outputs": [
        {
          "output_type": "stream",
          "name": "stdout",
          "text": [
            "Downloading data from https://storage.googleapis.com/tensorflow/tf-keras-datasets/mnist.npz\n",
            "11490434/11490434 [==============================] - 2s 0us/step\n"
          ]
        }
      ],
      "source": [
        "from tensorflow.keras.datasets import mnist\n",
        "import numpy as np\n",
        "\n",
        "(train_images, train_labels), _ = mnist.load_data()\n",
        "train_images = train_images.reshape((60000, 28 * 28))\n",
        "train_images = train_images.astype(\"float32\") / 255\n",
        "\n",
        "train_images_with_noise_channels = np.concatenate(\n",
        "    [train_images, np.random.random((len(train_images), 784))], axis=1)\n",
        "\n",
        "train_images_with_zeros_channels = np.concatenate(\n",
        "    [train_images, np.zeros((len(train_images), 784))], axis=1)"
      ]
    },
    {
      "cell_type": "markdown",
      "metadata": {
        "id": "26RG9b8RxWGh"
      },
      "source": [
        "**Training the same model on MNIST data with noise channels or all-zero channels**"
      ]
    },
    {
      "cell_type": "code",
      "execution_count": 5,
      "metadata": {
        "id": "zrjlQPGtxWGi",
        "outputId": "44a13abd-a64c-43e7-acc0-07c6711d8933",
        "colab": {
          "base_uri": "https://localhost:8080/"
        }
      },
      "outputs": [
        {
          "output_type": "stream",
          "name": "stdout",
          "text": [
            "Epoch 1/10\n",
            "375/375 [==============================] - 2s 5ms/step - loss: 0.6048 - accuracy: 0.8125 - val_loss: 0.2558 - val_accuracy: 0.9242\n",
            "Epoch 2/10\n",
            "375/375 [==============================] - 2s 4ms/step - loss: 0.2507 - accuracy: 0.9218 - val_loss: 0.2575 - val_accuracy: 0.9233\n",
            "Epoch 3/10\n",
            "375/375 [==============================] - 1s 3ms/step - loss: 0.1635 - accuracy: 0.9496 - val_loss: 0.1559 - val_accuracy: 0.9532\n",
            "Epoch 4/10\n",
            "375/375 [==============================] - 1s 3ms/step - loss: 0.1174 - accuracy: 0.9633 - val_loss: 0.1462 - val_accuracy: 0.9558\n",
            "Epoch 5/10\n",
            "375/375 [==============================] - 1s 4ms/step - loss: 0.0867 - accuracy: 0.9730 - val_loss: 0.1288 - val_accuracy: 0.9628\n",
            "Epoch 6/10\n",
            "375/375 [==============================] - 1s 3ms/step - loss: 0.0627 - accuracy: 0.9801 - val_loss: 0.1359 - val_accuracy: 0.9607\n",
            "Epoch 7/10\n",
            "375/375 [==============================] - 1s 3ms/step - loss: 0.0468 - accuracy: 0.9850 - val_loss: 0.1271 - val_accuracy: 0.9649\n",
            "Epoch 8/10\n",
            "375/375 [==============================] - 1s 3ms/step - loss: 0.0360 - accuracy: 0.9886 - val_loss: 0.1947 - val_accuracy: 0.9489\n",
            "Epoch 9/10\n",
            "375/375 [==============================] - 1s 4ms/step - loss: 0.0263 - accuracy: 0.9914 - val_loss: 0.1996 - val_accuracy: 0.9463\n",
            "Epoch 10/10\n",
            "375/375 [==============================] - 2s 4ms/step - loss: 0.0199 - accuracy: 0.9939 - val_loss: 0.1642 - val_accuracy: 0.9601\n",
            "Epoch 1/10\n",
            "375/375 [==============================] - 2s 4ms/step - loss: 0.3016 - accuracy: 0.9131 - val_loss: 0.1635 - val_accuracy: 0.9532\n",
            "Epoch 2/10\n",
            "375/375 [==============================] - 1s 3ms/step - loss: 0.1251 - accuracy: 0.9631 - val_loss: 0.1108 - val_accuracy: 0.9678\n",
            "Epoch 3/10\n",
            "375/375 [==============================] - 1s 3ms/step - loss: 0.0816 - accuracy: 0.9757 - val_loss: 0.0921 - val_accuracy: 0.9728\n",
            "Epoch 4/10\n",
            "375/375 [==============================] - 1s 4ms/step - loss: 0.0593 - accuracy: 0.9824 - val_loss: 0.0832 - val_accuracy: 0.9761\n",
            "Epoch 5/10\n",
            "375/375 [==============================] - 1s 3ms/step - loss: 0.0442 - accuracy: 0.9870 - val_loss: 0.0781 - val_accuracy: 0.9758\n",
            "Epoch 6/10\n",
            "375/375 [==============================] - 1s 4ms/step - loss: 0.0333 - accuracy: 0.9903 - val_loss: 0.0752 - val_accuracy: 0.9772\n",
            "Epoch 7/10\n",
            "375/375 [==============================] - 2s 6ms/step - loss: 0.0255 - accuracy: 0.9928 - val_loss: 0.0702 - val_accuracy: 0.9801\n",
            "Epoch 8/10\n",
            "375/375 [==============================] - 3s 8ms/step - loss: 0.0189 - accuracy: 0.9948 - val_loss: 0.0747 - val_accuracy: 0.9789\n",
            "Epoch 9/10\n",
            "375/375 [==============================] - 2s 6ms/step - loss: 0.0145 - accuracy: 0.9961 - val_loss: 0.0695 - val_accuracy: 0.9810\n",
            "Epoch 10/10\n",
            "375/375 [==============================] - 2s 6ms/step - loss: 0.0106 - accuracy: 0.9975 - val_loss: 0.0717 - val_accuracy: 0.9804\n",
            "Epoch 1/10\n",
            "375/375 [==============================] - 3s 5ms/step - loss: 0.2929 - accuracy: 0.9154 - val_loss: 0.1461 - val_accuracy: 0.9586\n",
            "Epoch 2/10\n",
            "375/375 [==============================] - 1s 3ms/step - loss: 0.1233 - accuracy: 0.9640 - val_loss: 0.1093 - val_accuracy: 0.9680\n",
            "Epoch 3/10\n",
            "375/375 [==============================] - 2s 4ms/step - loss: 0.0810 - accuracy: 0.9763 - val_loss: 0.0860 - val_accuracy: 0.9743\n",
            "Epoch 4/10\n",
            "375/375 [==============================] - 1s 4ms/step - loss: 0.0582 - accuracy: 0.9828 - val_loss: 0.0828 - val_accuracy: 0.9756\n",
            "Epoch 5/10\n",
            "375/375 [==============================] - 1s 3ms/step - loss: 0.0429 - accuracy: 0.9873 - val_loss: 0.0815 - val_accuracy: 0.9761\n",
            "Epoch 6/10\n",
            "375/375 [==============================] - 2s 4ms/step - loss: 0.0321 - accuracy: 0.9909 - val_loss: 0.0876 - val_accuracy: 0.9732\n",
            "Epoch 7/10\n",
            "375/375 [==============================] - 2s 4ms/step - loss: 0.0245 - accuracy: 0.9928 - val_loss: 0.0765 - val_accuracy: 0.9788\n",
            "Epoch 8/10\n",
            "375/375 [==============================] - 2s 4ms/step - loss: 0.0185 - accuracy: 0.9947 - val_loss: 0.0774 - val_accuracy: 0.9792\n",
            "Epoch 9/10\n",
            "375/375 [==============================] - 1s 3ms/step - loss: 0.0135 - accuracy: 0.9967 - val_loss: 0.0773 - val_accuracy: 0.9789\n",
            "Epoch 10/10\n",
            "375/375 [==============================] - 1s 3ms/step - loss: 0.0102 - accuracy: 0.9975 - val_loss: 0.0765 - val_accuracy: 0.9803\n"
          ]
        }
      ],
      "source": [
        "from tensorflow import keras\n",
        "from tensorflow.keras import layers\n",
        "\n",
        "def get_model():\n",
        "    model = keras.Sequential([\n",
        "        layers.Dense(512, activation=\"relu\"),\n",
        "        layers.Dense(10, activation=\"softmax\")\n",
        "    ])\n",
        "    model.compile(optimizer=\"rmsprop\",\n",
        "                  loss=\"sparse_categorical_crossentropy\",\n",
        "                  metrics=[\"accuracy\"])\n",
        "    return model\n",
        "\n",
        "model = get_model()\n",
        "history_noise = model.fit(\n",
        "    train_images_with_noise_channels, train_labels,\n",
        "    epochs=10,\n",
        "    batch_size=128,\n",
        "    validation_split=0.2)\n",
        "\n",
        "model = get_model()\n",
        "history_zeros = model.fit(\n",
        "    train_images_with_zeros_channels, train_labels,\n",
        "    epochs=10,\n",
        "    batch_size=128,\n",
        "    validation_split=0.2)\n",
        "\n",
        "model = get_model()                   # practice in class\n",
        "history_original = model.fit(\n",
        "    train_images, train_labels,\n",
        "    epochs=10,\n",
        "    batch_size=128,\n",
        "    validation_split=0.2)"
      ]
    },
    {
      "cell_type": "markdown",
      "metadata": {
        "id": "DhDXZFA9xWGi"
      },
      "source": [
        "**Plotting a validation accuracy comparison**"
      ]
    },
    {
      "cell_type": "code",
      "execution_count": 8,
      "metadata": {
        "id": "gOzLmu7_xWGj",
        "outputId": "508d1f49-c6ea-4ce1-aed7-49547a7404c4",
        "colab": {
          "base_uri": "https://localhost:8080/",
          "height": 490
        }
      },
      "outputs": [
        {
          "output_type": "execute_result",
          "data": {
            "text/plain": [
              "<matplotlib.legend.Legend at 0x7f0c996c73d0>"
            ]
          },
          "metadata": {},
          "execution_count": 8
        },
        {
          "output_type": "display_data",
          "data": {
            "text/plain": [
              "<Figure size 640x480 with 1 Axes>"
            ],
            "image/png": "[encoded data removed]"
          },
          "metadata": {}
        }
      ],
      "source": [
        "import matplotlib.pyplot as plt\n",
        "val_acc_noise = history_noise.history[\"val_accuracy\"]\n",
        "val_acc_zeros = history_zeros.history[\"val_accuracy\"]\n",
        "val_acc_original = history_original.history[\"val_accuracy\"]   # practice in class\n",
        "\n",
        "epochs = range(1, 11)\n",
        "\n",
        "plt.plot(epochs, val_acc_noise, \"b-\",\n",
        "         label=\"Validation accuracy with noise channels\")\n",
        "plt.plot(epochs, val_acc_zeros, \"b--\",\n",
        "         label=\"Validation accuracy with zeros channels\")\n",
        "plt.plot(epochs, val_acc_original, \"r--\",                     # practice in class\n",
        "         label=\"Validation accuracy with original data\")\n",
        "\n",
        "plt.plot()\n",
        "plt.title(\"Effect of noise channels on validation accuracy\")\n",
        "plt.xlabel(\"Epochs\")\n",
        "plt.ylabel(\"Accuracy\")\n",
        "plt.legend()"
      ]
    },
    {
      "cell_type": "markdown",
      "metadata": {
        "id": "Opt39_HNxWGj"
      },
      "source": [
        "### The nature of generalization in deep learning"
      ]
    },
    {
      "cell_type": "markdown",
      "metadata": {
        "id": "BzXXTmcLxWGk"
      },
      "source": [
        "**Fitting a MNIST model with randomly shuffled labels**"
      ]
    },
    {
      "cell_type": "code",
      "execution_count": 9,
      "metadata": {
        "id": "ftgOgReGxWGk",
        "outputId": "1fe9c48c-12f2-4ffe-eb18-85d95da3880a",
        "colab": {
          "base_uri": "https://localhost:8080/"
        }
      },
      "outputs": [
        {
          "output_type": "stream",
          "name": "stdout",
          "text": [
            "Epoch 1/100\n",
            "375/375 [==============================] - 3s 5ms/step - loss: 2.3150 - accuracy: 0.1050 - val_loss: 2.3050 - val_accuracy: 0.1007\n",
            "Epoch 2/100\n",
            "375/375 [==============================] - 2s 4ms/step - loss: 2.2996 - accuracy: 0.1165 - val_loss: 2.3098 - val_accuracy: 0.1023\n",
            "Epoch 3/100\n",
            "375/375 [==============================] - 2s 4ms/step - loss: 2.2924 - accuracy: 0.1253 - val_loss: 2.3222 - val_accuracy: 0.1028\n",
            "Epoch 4/100\n",
            "375/375 [==============================] - 2s 5ms/step - loss: 2.2797 - accuracy: 0.1383 - val_loss: 2.3264 - val_accuracy: 0.1006\n",
            "Epoch 5/100\n",
            "375/375 [==============================] - 1s 3ms/step - loss: 2.2643 - accuracy: 0.1481 - val_loss: 2.3340 - val_accuracy: 0.1049\n",
            "Epoch 6/100\n",
            "375/375 [==============================] - 1s 4ms/step - loss: 2.2441 - accuracy: 0.1659 - val_loss: 2.3508 - val_accuracy: 0.1000\n",
            "Epoch 7/100\n",
            "375/375 [==============================] - 1s 3ms/step - loss: 2.2205 - accuracy: 0.1785 - val_loss: 2.3741 - val_accuracy: 0.1037\n",
            "Epoch 8/100\n",
            "375/375 [==============================] - 1s 3ms/step - loss: 2.1929 - accuracy: 0.1956 - val_loss: 2.3980 - val_accuracy: 0.1047\n",
            "Epoch 9/100\n",
            "375/375 [==============================] - 2s 5ms/step - loss: 2.1624 - accuracy: 0.2164 - val_loss: 2.4048 - val_accuracy: 0.1027\n",
            "Epoch 10/100\n",
            "375/375 [==============================] - 1s 4ms/step - loss: 2.1317 - accuracy: 0.2293 - val_loss: 2.4260 - val_accuracy: 0.1006\n",
            "Epoch 11/100\n",
            "375/375 [==============================] - 1s 3ms/step - loss: 2.0971 - accuracy: 0.2452 - val_loss: 2.4472 - val_accuracy: 0.0983\n",
            "Epoch 12/100\n",
            "375/375 [==============================] - 1s 3ms/step - loss: 2.0605 - accuracy: 0.2607 - val_loss: 2.4599 - val_accuracy: 0.0974\n",
            "Epoch 13/100\n",
            "375/375 [==============================] - 1s 3ms/step - loss: 2.0215 - accuracy: 0.2814 - val_loss: 2.5060 - val_accuracy: 0.1021\n",
            "Epoch 14/100\n",
            "375/375 [==============================] - 1s 4ms/step - loss: 1.9838 - accuracy: 0.2952 - val_loss: 2.5326 - val_accuracy: 0.0997\n",
            "Epoch 15/100\n",
            "375/375 [==============================] - 1s 3ms/step - loss: 1.9437 - accuracy: 0.3157 - val_loss: 2.5732 - val_accuracy: 0.1026\n",
            "Epoch 16/100\n",
            "375/375 [==============================] - 2s 4ms/step - loss: 1.9038 - accuracy: 0.3304 - val_loss: 2.6169 - val_accuracy: 0.1017\n",
            "Epoch 17/100\n",
            "375/375 [==============================] - 1s 4ms/step - loss: 1.8649 - accuracy: 0.3479 - val_loss: 2.6333 - val_accuracy: 0.0999\n",
            "Epoch 18/100\n",
            "375/375 [==============================] - 2s 5ms/step - loss: 1.8263 - accuracy: 0.3615 - val_loss: 2.6808 - val_accuracy: 0.0986\n",
            "Epoch 19/100\n",
            "375/375 [==============================] - 1s 4ms/step - loss: 1.7885 - accuracy: 0.3781 - val_loss: 2.7354 - val_accuracy: 0.0993\n",
            "Epoch 20/100\n",
            "375/375 [==============================] - 1s 4ms/step - loss: 1.7505 - accuracy: 0.3907 - val_loss: 2.7836 - val_accuracy: 0.0998\n",
            "Epoch 21/100\n",
            "375/375 [==============================] - 1s 4ms/step - loss: 1.7139 - accuracy: 0.4048 - val_loss: 2.8033 - val_accuracy: 0.1018\n",
            "Epoch 22/100\n",
            "375/375 [==============================] - 1s 3ms/step - loss: 1.6742 - accuracy: 0.4218 - val_loss: 2.8560 - val_accuracy: 0.0993\n",
            "Epoch 23/100\n",
            "375/375 [==============================] - 1s 3ms/step - loss: 1.6369 - accuracy: 0.4359 - val_loss: 2.8849 - val_accuracy: 0.1009\n",
            "Epoch 24/100\n",
            "375/375 [==============================] - 1s 3ms/step - loss: 1.6013 - accuracy: 0.4497 - val_loss: 2.9217 - val_accuracy: 0.1028\n",
            "Epoch 25/100\n",
            "375/375 [==============================] - 1s 4ms/step - loss: 1.5644 - accuracy: 0.4651 - val_loss: 2.9918 - val_accuracy: 0.0993\n",
            "Epoch 26/100\n",
            "375/375 [==============================] - 1s 3ms/step - loss: 1.5299 - accuracy: 0.4751 - val_loss: 3.0375 - val_accuracy: 0.1010\n",
            "Epoch 27/100\n",
            "375/375 [==============================] - 2s 5ms/step - loss: 1.4967 - accuracy: 0.4897 - val_loss: 3.0735 - val_accuracy: 0.0989\n",
            "Epoch 28/100\n",
            "375/375 [==============================] - 1s 4ms/step - loss: 1.4636 - accuracy: 0.5019 - val_loss: 3.1357 - val_accuracy: 0.1021\n",
            "Epoch 29/100\n",
            "375/375 [==============================] - 1s 3ms/step - loss: 1.4305 - accuracy: 0.5137 - val_loss: 3.1636 - val_accuracy: 0.1007\n",
            "Epoch 30/100\n",
            "375/375 [==============================] - 1s 3ms/step - loss: 1.4001 - accuracy: 0.5245 - val_loss: 3.2139 - val_accuracy: 0.1001\n",
            "Epoch 31/100\n",
            "375/375 [==============================] - 1s 3ms/step - loss: 1.3699 - accuracy: 0.5365 - val_loss: 3.2891 - val_accuracy: 0.1007\n",
            "Epoch 32/100\n",
            "375/375 [==============================] - 1s 3ms/step - loss: 1.3370 - accuracy: 0.5472 - val_loss: 3.3398 - val_accuracy: 0.0986\n",
            "Epoch 33/100\n",
            "375/375 [==============================] - 1s 3ms/step - loss: 1.3084 - accuracy: 0.5600 - val_loss: 3.4205 - val_accuracy: 0.1032\n",
            "Epoch 34/100\n",
            "375/375 [==============================] - 1s 3ms/step - loss: 1.2813 - accuracy: 0.5692 - val_loss: 3.4601 - val_accuracy: 0.1018\n",
            "Epoch 35/100\n",
            "375/375 [==============================] - 1s 3ms/step - loss: 1.2540 - accuracy: 0.5774 - val_loss: 3.5050 - val_accuracy: 0.0987\n",
            "Epoch 36/100\n",
            "375/375 [==============================] - 1s 4ms/step - loss: 1.2262 - accuracy: 0.5880 - val_loss: 3.5597 - val_accuracy: 0.0991\n",
            "Epoch 37/100\n",
            "375/375 [==============================] - 2s 5ms/step - loss: 1.2001 - accuracy: 0.5970 - val_loss: 3.6041 - val_accuracy: 0.0988\n",
            "Epoch 38/100\n",
            "375/375 [==============================] - 1s 4ms/step - loss: 1.1722 - accuracy: 0.6083 - val_loss: 3.6988 - val_accuracy: 0.0997\n",
            "Epoch 39/100\n",
            "375/375 [==============================] - 1s 3ms/step - loss: 1.1499 - accuracy: 0.6159 - val_loss: 3.7234 - val_accuracy: 0.1005\n",
            "Epoch 40/100\n",
            "375/375 [==============================] - 1s 3ms/step - loss: 1.1207 - accuracy: 0.6256 - val_loss: 3.8026 - val_accuracy: 0.0943\n",
            "Epoch 41/100\n",
            "375/375 [==============================] - 1s 4ms/step - loss: 1.0992 - accuracy: 0.6321 - val_loss: 3.8497 - val_accuracy: 0.0972\n",
            "Epoch 42/100\n",
            "375/375 [==============================] - 1s 3ms/step - loss: 1.0769 - accuracy: 0.6431 - val_loss: 3.9366 - val_accuracy: 0.0987\n",
            "Epoch 43/100\n",
            "375/375 [==============================] - 1s 3ms/step - loss: 1.0535 - accuracy: 0.6504 - val_loss: 3.9840 - val_accuracy: 0.1000\n",
            "Epoch 44/100\n",
            "375/375 [==============================] - 1s 3ms/step - loss: 1.0296 - accuracy: 0.6567 - val_loss: 4.0287 - val_accuracy: 0.0992\n",
            "Epoch 45/100\n",
            "375/375 [==============================] - 1s 4ms/step - loss: 1.0070 - accuracy: 0.6680 - val_loss: 4.1341 - val_accuracy: 0.1016\n",
            "Epoch 46/100\n",
            "375/375 [==============================] - 3s 8ms/step - loss: 0.9896 - accuracy: 0.6718 - val_loss: 4.1659 - val_accuracy: 0.0997\n",
            "Epoch 47/100\n",
            "375/375 [==============================] - 2s 5ms/step - loss: 0.9670 - accuracy: 0.6818 - val_loss: 4.2237 - val_accuracy: 0.0991\n",
            "Epoch 48/100\n",
            "375/375 [==============================] - 2s 5ms/step - loss: 0.9484 - accuracy: 0.6873 - val_loss: 4.3127 - val_accuracy: 0.0989\n",
            "Epoch 49/100\n",
            "375/375 [==============================] - 2s 5ms/step - loss: 0.9285 - accuracy: 0.6926 - val_loss: 4.3852 - val_accuracy: 0.0993\n",
            "Epoch 50/100\n",
            "375/375 [==============================] - 1s 3ms/step - loss: 0.9064 - accuracy: 0.7032 - val_loss: 4.4548 - val_accuracy: 0.1002\n",
            "Epoch 51/100\n",
            "375/375 [==============================] - 1s 3ms/step - loss: 0.8903 - accuracy: 0.7069 - val_loss: 4.4766 - val_accuracy: 0.1018\n",
            "Epoch 52/100\n",
            "375/375 [==============================] - 1s 3ms/step - loss: 0.8719 - accuracy: 0.7125 - val_loss: 4.5929 - val_accuracy: 0.1026\n",
            "Epoch 53/100\n",
            "375/375 [==============================] - 2s 5ms/step - loss: 0.8540 - accuracy: 0.7213 - val_loss: 4.6329 - val_accuracy: 0.0978\n",
            "Epoch 54/100\n",
            "375/375 [==============================] - 1s 4ms/step - loss: 0.8340 - accuracy: 0.7285 - val_loss: 4.7524 - val_accuracy: 0.1003\n",
            "Epoch 55/100\n",
            "375/375 [==============================] - 1s 3ms/step - loss: 0.8161 - accuracy: 0.7333 - val_loss: 4.8039 - val_accuracy: 0.1032\n",
            "Epoch 56/100\n",
            "375/375 [==============================] - 1s 3ms/step - loss: 0.7998 - accuracy: 0.7410 - val_loss: 4.8541 - val_accuracy: 0.1006\n",
            "Epoch 57/100\n",
            "375/375 [==============================] - 1s 3ms/step - loss: 0.7821 - accuracy: 0.7442 - val_loss: 4.9353 - val_accuracy: 0.1026\n",
            "Epoch 58/100\n",
            "375/375 [==============================] - 1s 3ms/step - loss: 0.7721 - accuracy: 0.7470 - val_loss: 4.9617 - val_accuracy: 0.0998\n",
            "Epoch 59/100\n",
            "375/375 [==============================] - 1s 4ms/step - loss: 0.7504 - accuracy: 0.7554 - val_loss: 5.0830 - val_accuracy: 0.1020\n",
            "Epoch 60/100\n",
            "375/375 [==============================] - 1s 3ms/step - loss: 0.7366 - accuracy: 0.7614 - val_loss: 5.0867 - val_accuracy: 0.1018\n",
            "Epoch 61/100\n",
            "375/375 [==============================] - 1s 3ms/step - loss: 0.7201 - accuracy: 0.7672 - val_loss: 5.1968 - val_accuracy: 0.1010\n",
            "Epoch 62/100\n",
            "375/375 [==============================] - 1s 4ms/step - loss: 0.7080 - accuracy: 0.7719 - val_loss: 5.2571 - val_accuracy: 0.0980\n",
            "Epoch 63/100\n",
            "375/375 [==============================] - 2s 4ms/step - loss: 0.6914 - accuracy: 0.7769 - val_loss: 5.3072 - val_accuracy: 0.0970\n",
            "Epoch 64/100\n",
            "375/375 [==============================] - 2s 6ms/step - loss: 0.6778 - accuracy: 0.7808 - val_loss: 5.4072 - val_accuracy: 0.1002\n",
            "Epoch 65/100\n",
            "375/375 [==============================] - 1s 3ms/step - loss: 0.6653 - accuracy: 0.7850 - val_loss: 5.4858 - val_accuracy: 0.1002\n",
            "Epoch 66/100\n",
            "375/375 [==============================] - 1s 3ms/step - loss: 0.6494 - accuracy: 0.7916 - val_loss: 5.5675 - val_accuracy: 0.1007\n",
            "Epoch 67/100\n",
            "375/375 [==============================] - 1s 3ms/step - loss: 0.6369 - accuracy: 0.7960 - val_loss: 5.6424 - val_accuracy: 0.1018\n",
            "Epoch 68/100\n",
            "375/375 [==============================] - 1s 3ms/step - loss: 0.6239 - accuracy: 0.8009 - val_loss: 5.7232 - val_accuracy: 0.1022\n",
            "Epoch 69/100\n",
            "375/375 [==============================] - 1s 3ms/step - loss: 0.6126 - accuracy: 0.8032 - val_loss: 5.8343 - val_accuracy: 0.1007\n",
            "Epoch 70/100\n",
            "375/375 [==============================] - 1s 3ms/step - loss: 0.6001 - accuracy: 0.8082 - val_loss: 5.8967 - val_accuracy: 0.0963\n",
            "Epoch 71/100\n",
            "375/375 [==============================] - 1s 4ms/step - loss: 0.5879 - accuracy: 0.8123 - val_loss: 5.9383 - val_accuracy: 0.1003\n",
            "Epoch 72/100\n",
            "375/375 [==============================] - 2s 5ms/step - loss: 0.5759 - accuracy: 0.8165 - val_loss: 6.0073 - val_accuracy: 0.0995\n",
            "Epoch 73/100\n",
            "375/375 [==============================] - 1s 3ms/step - loss: 0.5668 - accuracy: 0.8196 - val_loss: 6.1115 - val_accuracy: 0.0990\n",
            "Epoch 74/100\n",
            "375/375 [==============================] - 1s 3ms/step - loss: 0.5565 - accuracy: 0.8233 - val_loss: 6.1529 - val_accuracy: 0.1019\n",
            "Epoch 75/100\n",
            "375/375 [==============================] - 1s 3ms/step - loss: 0.5439 - accuracy: 0.8270 - val_loss: 6.2268 - val_accuracy: 0.1016\n",
            "Epoch 76/100\n",
            "375/375 [==============================] - 1s 3ms/step - loss: 0.5327 - accuracy: 0.8303 - val_loss: 6.2835 - val_accuracy: 0.1021\n",
            "Epoch 77/100\n",
            "375/375 [==============================] - 1s 3ms/step - loss: 0.5225 - accuracy: 0.8349 - val_loss: 6.3646 - val_accuracy: 0.1007\n",
            "Epoch 78/100\n",
            "375/375 [==============================] - 1s 3ms/step - loss: 0.5121 - accuracy: 0.8378 - val_loss: 6.5326 - val_accuracy: 0.1003\n",
            "Epoch 79/100\n",
            "375/375 [==============================] - 1s 3ms/step - loss: 0.5031 - accuracy: 0.8412 - val_loss: 6.5125 - val_accuracy: 0.1004\n",
            "Epoch 80/100\n",
            "375/375 [==============================] - 1s 3ms/step - loss: 0.4934 - accuracy: 0.8455 - val_loss: 6.6361 - val_accuracy: 0.0992\n",
            "Epoch 81/100\n",
            "375/375 [==============================] - 2s 5ms/step - loss: 0.4828 - accuracy: 0.8477 - val_loss: 6.6310 - val_accuracy: 0.1050\n",
            "Epoch 82/100\n",
            "375/375 [==============================] - 1s 4ms/step - loss: 0.4744 - accuracy: 0.8496 - val_loss: 6.7710 - val_accuracy: 0.1013\n",
            "Epoch 83/100\n",
            "375/375 [==============================] - 1s 3ms/step - loss: 0.4641 - accuracy: 0.8533 - val_loss: 6.7981 - val_accuracy: 0.1001\n",
            "Epoch 84/100\n",
            "375/375 [==============================] - 1s 3ms/step - loss: 0.4553 - accuracy: 0.8579 - val_loss: 6.9400 - val_accuracy: 0.0988\n",
            "Epoch 85/100\n",
            "375/375 [==============================] - 1s 3ms/step - loss: 0.4458 - accuracy: 0.8593 - val_loss: 7.0164 - val_accuracy: 0.1013\n",
            "Epoch 86/100\n",
            "375/375 [==============================] - 1s 3ms/step - loss: 0.4377 - accuracy: 0.8635 - val_loss: 7.1247 - val_accuracy: 0.1020\n",
            "Epoch 87/100\n",
            "375/375 [==============================] - 1s 4ms/step - loss: 0.4299 - accuracy: 0.8656 - val_loss: 7.1431 - val_accuracy: 0.1008\n",
            "Epoch 88/100\n",
            "375/375 [==============================] - 1s 3ms/step - loss: 0.4213 - accuracy: 0.8685 - val_loss: 7.1846 - val_accuracy: 0.1019\n",
            "Epoch 89/100\n",
            "375/375 [==============================] - 1s 3ms/step - loss: 0.4134 - accuracy: 0.8722 - val_loss: 7.3406 - val_accuracy: 0.1015\n",
            "Epoch 90/100\n",
            "375/375 [==============================] - 2s 4ms/step - loss: 0.4054 - accuracy: 0.8725 - val_loss: 7.3585 - val_accuracy: 0.1023\n",
            "Epoch 91/100\n",
            "375/375 [==============================] - 2s 4ms/step - loss: 0.3990 - accuracy: 0.8755 - val_loss: 7.4382 - val_accuracy: 0.0993\n",
            "Epoch 92/100\n",
            "375/375 [==============================] - 1s 3ms/step - loss: 0.3897 - accuracy: 0.8797 - val_loss: 7.5250 - val_accuracy: 0.1010\n",
            "Epoch 93/100\n",
            "375/375 [==============================] - 1s 4ms/step - loss: 0.3849 - accuracy: 0.8812 - val_loss: 7.5541 - val_accuracy: 0.1019\n",
            "Epoch 94/100\n",
            "375/375 [==============================] - 1s 3ms/step - loss: 0.3753 - accuracy: 0.8840 - val_loss: 7.6997 - val_accuracy: 0.1008\n",
            "Epoch 95/100\n",
            "375/375 [==============================] - 1s 3ms/step - loss: 0.3696 - accuracy: 0.8850 - val_loss: 7.7115 - val_accuracy: 0.1013\n",
            "Epoch 96/100\n",
            "375/375 [==============================] - 2s 4ms/step - loss: 0.3634 - accuracy: 0.8875 - val_loss: 7.8177 - val_accuracy: 0.1032\n",
            "Epoch 97/100\n",
            "375/375 [==============================] - 1s 3ms/step - loss: 0.3561 - accuracy: 0.8905 - val_loss: 7.9784 - val_accuracy: 0.1007\n",
            "Epoch 98/100\n",
            "375/375 [==============================] - 1s 3ms/step - loss: 0.3494 - accuracy: 0.8927 - val_loss: 7.9437 - val_accuracy: 0.1036\n",
            "Epoch 99/100\n",
            "375/375 [==============================] - 2s 4ms/step - loss: 0.3447 - accuracy: 0.8938 - val_loss: 8.0047 - val_accuracy: 0.1013\n",
            "Epoch 100/100\n",
            "375/375 [==============================] - 2s 4ms/step - loss: 0.3372 - accuracy: 0.8966 - val_loss: 8.1200 - val_accuracy: 0.1020\n"
          ]
        },
        {
          "output_type": "execute_result",
          "data": {
            "text/plain": [
              "<keras.callbacks.History at 0x7f0c993d8fd0>"
            ]
          },
          "metadata": {},
          "execution_count": 9
        }
      ],
      "source": [
        "(train_images, train_labels), _ = mnist.load_data()\n",
        "train_images = train_images.reshape((60000, 28 * 28))\n",
        "train_images = train_images.astype(\"float32\") / 255\n",
        "\n",
        "random_train_labels = train_labels[:]\n",
        "np.random.shuffle(random_train_labels)\n",
        "\n",
        "model = keras.Sequential([\n",
        "    layers.Dense(512, activation=\"relu\"),\n",
        "    layers.Dense(10, activation=\"softmax\")\n",
        "])\n",
        "model.compile(optimizer=\"rmsprop\",\n",
        "              loss=\"sparse_categorical_crossentropy\",\n",
        "              metrics=[\"accuracy\"])\n",
        "model.fit(train_images, random_train_labels,\n",
        "          epochs=100,\n",
        "          batch_size=128,\n",
        "          validation_split=0.2)"
      ]
    },
    {
      "cell_type": "markdown",
      "source": [
        "practice in class"
      ],
      "metadata": {
        "id": "23L41eha7wYl"
      }
    },
    {
      "cell_type": "code",
      "source": [
        "from tensorflow import keras\n",
        "from tensorflow.keras import layers\n",
        "\n",
        "def get_model():\n",
        "    model = keras.Sequential([\n",
        "        layers.Dense(512, activation=\"relu\"),\n",
        "        layers.Dense(10, activation=\"softmax\")\n",
        "    ])\n",
        "    model.compile(optimizer=\"rmsprop\",\n",
        "                  loss=\"sparse_categorical_crossentropy\",\n",
        "                  metrics=[\"accuracy\"])\n",
        "    return model\n",
        "\n",
        "model = get_model()\n",
        "history_shuff = model.fit(\n",
        "    train_images, random_train_labels,\n",
        "    epochs=100,\n",
        "    batch_size=128,\n",
        "    validation_split=0.2)"
      ],
      "metadata": {
        "id": "qOqfSR_H7Vh9",
        "outputId": "d81849d9-20ba-4119-e700-ae1f1463b24a",
        "colab": {
          "base_uri": "https://localhost:8080/"
        }
      },
      "execution_count": 11,
      "outputs": [
        {
          "output_type": "stream",
          "name": "stdout",
          "text": [
            "Epoch 1/100\n",
            "375/375 [==============================] - 2s 3ms/step - loss: 2.3166 - accuracy: 0.1058 - val_loss: 2.3045 - val_accuracy: 0.1039\n",
            "Epoch 2/100\n",
            "375/375 [==============================] - 2s 4ms/step - loss: 2.2993 - accuracy: 0.1167 - val_loss: 2.3114 - val_accuracy: 0.1062\n",
            "Epoch 3/100\n",
            "375/375 [==============================] - 2s 5ms/step - loss: 2.2915 - accuracy: 0.1261 - val_loss: 2.3179 - val_accuracy: 0.0986\n",
            "Epoch 4/100\n",
            "375/375 [==============================] - 1s 4ms/step - loss: 2.2791 - accuracy: 0.1386 - val_loss: 2.3262 - val_accuracy: 0.0991\n",
            "Epoch 5/100\n",
            "375/375 [==============================] - 1s 3ms/step - loss: 2.2644 - accuracy: 0.1530 - val_loss: 2.3338 - val_accuracy: 0.1035\n",
            "Epoch 6/100\n",
            "375/375 [==============================] - 1s 3ms/step - loss: 2.2449 - accuracy: 0.1650 - val_loss: 2.3454 - val_accuracy: 0.0954\n",
            "Epoch 7/100\n",
            "375/375 [==============================] - 1s 3ms/step - loss: 2.2221 - accuracy: 0.1819 - val_loss: 2.3608 - val_accuracy: 0.0985\n",
            "Epoch 8/100\n",
            "375/375 [==============================] - 1s 3ms/step - loss: 2.1954 - accuracy: 0.1956 - val_loss: 2.3750 - val_accuracy: 0.0968\n",
            "Epoch 9/100\n",
            "375/375 [==============================] - 1s 3ms/step - loss: 2.1656 - accuracy: 0.2120 - val_loss: 2.3999 - val_accuracy: 0.0991\n",
            "Epoch 10/100\n",
            "375/375 [==============================] - 1s 4ms/step - loss: 2.1331 - accuracy: 0.2304 - val_loss: 2.4119 - val_accuracy: 0.1007\n",
            "Epoch 11/100\n",
            "375/375 [==============================] - 1s 3ms/step - loss: 2.0988 - accuracy: 0.2459 - val_loss: 2.4527 - val_accuracy: 0.0964\n",
            "Epoch 12/100\n",
            "375/375 [==============================] - 1s 4ms/step - loss: 2.0639 - accuracy: 0.2606 - val_loss: 2.4740 - val_accuracy: 0.0987\n",
            "Epoch 13/100\n",
            "375/375 [==============================] - 2s 4ms/step - loss: 2.0264 - accuracy: 0.2798 - val_loss: 2.5071 - val_accuracy: 0.0978\n",
            "Epoch 14/100\n",
            "375/375 [==============================] - 1s 3ms/step - loss: 1.9870 - accuracy: 0.2983 - val_loss: 2.5316 - val_accuracy: 0.0987\n",
            "Epoch 15/100\n",
            "375/375 [==============================] - 1s 3ms/step - loss: 1.9477 - accuracy: 0.3110 - val_loss: 2.5648 - val_accuracy: 0.0993\n",
            "Epoch 16/100\n",
            "375/375 [==============================] - 1s 3ms/step - loss: 1.9095 - accuracy: 0.3288 - val_loss: 2.6119 - val_accuracy: 0.0982\n",
            "Epoch 17/100\n",
            "375/375 [==============================] - 1s 3ms/step - loss: 1.8707 - accuracy: 0.3461 - val_loss: 2.6231 - val_accuracy: 0.0993\n",
            "Epoch 18/100\n",
            "375/375 [==============================] - 1s 3ms/step - loss: 1.8304 - accuracy: 0.3593 - val_loss: 2.6668 - val_accuracy: 0.0922\n",
            "Epoch 19/100\n",
            "375/375 [==============================] - 1s 3ms/step - loss: 1.7927 - accuracy: 0.3772 - val_loss: 2.7134 - val_accuracy: 0.0993\n",
            "Epoch 20/100\n",
            "375/375 [==============================] - 2s 4ms/step - loss: 1.7526 - accuracy: 0.3912 - val_loss: 2.7703 - val_accuracy: 0.0945\n",
            "Epoch 21/100\n",
            "375/375 [==============================] - 1s 3ms/step - loss: 1.7172 - accuracy: 0.4034 - val_loss: 2.7885 - val_accuracy: 0.0988\n",
            "Epoch 22/100\n",
            "375/375 [==============================] - 2s 5ms/step - loss: 1.6790 - accuracy: 0.4207 - val_loss: 2.8339 - val_accuracy: 0.0967\n",
            "Epoch 23/100\n",
            "375/375 [==============================] - 1s 3ms/step - loss: 1.6431 - accuracy: 0.4342 - val_loss: 2.8859 - val_accuracy: 0.0976\n",
            "Epoch 24/100\n",
            "375/375 [==============================] - 1s 3ms/step - loss: 1.6070 - accuracy: 0.4466 - val_loss: 2.9273 - val_accuracy: 0.1007\n",
            "Epoch 25/100\n",
            "375/375 [==============================] - 1s 3ms/step - loss: 1.5730 - accuracy: 0.4629 - val_loss: 2.9742 - val_accuracy: 0.0993\n",
            "Epoch 26/100\n",
            "375/375 [==============================] - 1s 4ms/step - loss: 1.5383 - accuracy: 0.4752 - val_loss: 3.0041 - val_accuracy: 0.0983\n",
            "Epoch 27/100\n",
            "375/375 [==============================] - 1s 3ms/step - loss: 1.5028 - accuracy: 0.4882 - val_loss: 3.0760 - val_accuracy: 0.1002\n",
            "Epoch 28/100\n",
            "375/375 [==============================] - 1s 3ms/step - loss: 1.4718 - accuracy: 0.4954 - val_loss: 3.1043 - val_accuracy: 0.0946\n",
            "Epoch 29/100\n",
            "375/375 [==============================] - 1s 3ms/step - loss: 1.4391 - accuracy: 0.5109 - val_loss: 3.1633 - val_accuracy: 0.0993\n",
            "Epoch 30/100\n",
            "375/375 [==============================] - 1s 3ms/step - loss: 1.4084 - accuracy: 0.5204 - val_loss: 3.1972 - val_accuracy: 0.1002\n",
            "Epoch 31/100\n",
            "375/375 [==============================] - 2s 5ms/step - loss: 1.3773 - accuracy: 0.5327 - val_loss: 3.2564 - val_accuracy: 0.1028\n",
            "Epoch 32/100\n",
            "375/375 [==============================] - 1s 4ms/step - loss: 1.3465 - accuracy: 0.5466 - val_loss: 3.3335 - val_accuracy: 0.0982\n",
            "Epoch 33/100\n",
            "375/375 [==============================] - 1s 3ms/step - loss: 1.3192 - accuracy: 0.5533 - val_loss: 3.3618 - val_accuracy: 0.1009\n",
            "Epoch 34/100\n",
            "375/375 [==============================] - 1s 3ms/step - loss: 1.2902 - accuracy: 0.5630 - val_loss: 3.4104 - val_accuracy: 0.1004\n",
            "Epoch 35/100\n",
            "375/375 [==============================] - 1s 3ms/step - loss: 1.2650 - accuracy: 0.5741 - val_loss: 3.4874 - val_accuracy: 0.0983\n",
            "Epoch 36/100\n",
            "375/375 [==============================] - 1s 3ms/step - loss: 1.2384 - accuracy: 0.5835 - val_loss: 3.5215 - val_accuracy: 0.0988\n",
            "Epoch 37/100\n",
            "375/375 [==============================] - 1s 3ms/step - loss: 1.2104 - accuracy: 0.5933 - val_loss: 3.6117 - val_accuracy: 0.0972\n",
            "Epoch 38/100\n",
            "375/375 [==============================] - 1s 3ms/step - loss: 1.1849 - accuracy: 0.6036 - val_loss: 3.6780 - val_accuracy: 0.0999\n",
            "Epoch 39/100\n",
            "375/375 [==============================] - 1s 3ms/step - loss: 1.1589 - accuracy: 0.6115 - val_loss: 3.7284 - val_accuracy: 0.1032\n",
            "Epoch 40/100\n",
            "375/375 [==============================] - 1s 4ms/step - loss: 1.1359 - accuracy: 0.6199 - val_loss: 3.7800 - val_accuracy: 0.0999\n",
            "Epoch 41/100\n",
            "375/375 [==============================] - 2s 5ms/step - loss: 1.1114 - accuracy: 0.6307 - val_loss: 3.8225 - val_accuracy: 0.1021\n",
            "Epoch 42/100\n",
            "375/375 [==============================] - 1s 3ms/step - loss: 1.0864 - accuracy: 0.6390 - val_loss: 3.8874 - val_accuracy: 0.1033\n",
            "Epoch 43/100\n",
            "375/375 [==============================] - 1s 3ms/step - loss: 1.0634 - accuracy: 0.6488 - val_loss: 3.9458 - val_accuracy: 0.1058\n",
            "Epoch 44/100\n",
            "375/375 [==============================] - 1s 4ms/step - loss: 1.0422 - accuracy: 0.6536 - val_loss: 4.0136 - val_accuracy: 0.0999\n",
            "Epoch 45/100\n",
            "375/375 [==============================] - 2s 4ms/step - loss: 1.0220 - accuracy: 0.6612 - val_loss: 4.0913 - val_accuracy: 0.1026\n",
            "Epoch 46/100\n",
            "375/375 [==============================] - 1s 4ms/step - loss: 0.9964 - accuracy: 0.6709 - val_loss: 4.1243 - val_accuracy: 0.1025\n",
            "Epoch 47/100\n",
            "375/375 [==============================] - 2s 4ms/step - loss: 0.9800 - accuracy: 0.6754 - val_loss: 4.2048 - val_accuracy: 0.1037\n",
            "Epoch 48/100\n",
            "375/375 [==============================] - 2s 6ms/step - loss: 0.9584 - accuracy: 0.6818 - val_loss: 4.2448 - val_accuracy: 0.1013\n",
            "Epoch 49/100\n",
            "375/375 [==============================] - 3s 9ms/step - loss: 0.9367 - accuracy: 0.6907 - val_loss: 4.3278 - val_accuracy: 0.1001\n",
            "Epoch 50/100\n",
            "375/375 [==============================] - 1s 3ms/step - loss: 0.9197 - accuracy: 0.6967 - val_loss: 4.3951 - val_accuracy: 0.1037\n",
            "Epoch 51/100\n",
            "375/375 [==============================] - 1s 3ms/step - loss: 0.9017 - accuracy: 0.7039 - val_loss: 4.4416 - val_accuracy: 0.1002\n",
            "Epoch 52/100\n",
            "375/375 [==============================] - 1s 4ms/step - loss: 0.8820 - accuracy: 0.7120 - val_loss: 4.5184 - val_accuracy: 0.1036\n",
            "Epoch 53/100\n",
            "375/375 [==============================] - 1s 3ms/step - loss: 0.8642 - accuracy: 0.7159 - val_loss: 4.6345 - val_accuracy: 0.1025\n",
            "Epoch 54/100\n",
            "375/375 [==============================] - 1s 3ms/step - loss: 0.8447 - accuracy: 0.7230 - val_loss: 4.6502 - val_accuracy: 0.1021\n",
            "Epoch 55/100\n",
            "375/375 [==============================] - 1s 3ms/step - loss: 0.8306 - accuracy: 0.7269 - val_loss: 4.7313 - val_accuracy: 0.0991\n",
            "Epoch 56/100\n",
            "375/375 [==============================] - 1s 4ms/step - loss: 0.8137 - accuracy: 0.7356 - val_loss: 4.7724 - val_accuracy: 0.1005\n",
            "Epoch 57/100\n",
            "375/375 [==============================] - 2s 4ms/step - loss: 0.7991 - accuracy: 0.7418 - val_loss: 4.8323 - val_accuracy: 0.1053\n",
            "Epoch 58/100\n",
            "375/375 [==============================] - 1s 4ms/step - loss: 0.7803 - accuracy: 0.7449 - val_loss: 4.9368 - val_accuracy: 0.1028\n",
            "Epoch 59/100\n",
            "375/375 [==============================] - 1s 3ms/step - loss: 0.7661 - accuracy: 0.7506 - val_loss: 5.0179 - val_accuracy: 0.1025\n",
            "Epoch 60/100\n",
            "375/375 [==============================] - 1s 3ms/step - loss: 0.7513 - accuracy: 0.7571 - val_loss: 5.1038 - val_accuracy: 0.1004\n",
            "Epoch 61/100\n",
            "375/375 [==============================] - 1s 3ms/step - loss: 0.7342 - accuracy: 0.7621 - val_loss: 5.1255 - val_accuracy: 0.1049\n",
            "Epoch 62/100\n",
            "375/375 [==============================] - 1s 3ms/step - loss: 0.7200 - accuracy: 0.7656 - val_loss: 5.1876 - val_accuracy: 0.1006\n",
            "Epoch 63/100\n",
            "375/375 [==============================] - 1s 3ms/step - loss: 0.7075 - accuracy: 0.7725 - val_loss: 5.2600 - val_accuracy: 0.1041\n",
            "Epoch 64/100\n",
            "375/375 [==============================] - 1s 3ms/step - loss: 0.6927 - accuracy: 0.7760 - val_loss: 5.3248 - val_accuracy: 0.1062\n",
            "Epoch 65/100\n",
            "375/375 [==============================] - 1s 3ms/step - loss: 0.6782 - accuracy: 0.7826 - val_loss: 5.4067 - val_accuracy: 0.1024\n",
            "Epoch 66/100\n",
            "375/375 [==============================] - 1s 4ms/step - loss: 0.6650 - accuracy: 0.7856 - val_loss: 5.4928 - val_accuracy: 0.1018\n",
            "Epoch 67/100\n",
            "375/375 [==============================] - 2s 4ms/step - loss: 0.6552 - accuracy: 0.7884 - val_loss: 5.5387 - val_accuracy: 0.1044\n",
            "Epoch 68/100\n",
            "375/375 [==============================] - 1s 3ms/step - loss: 0.6408 - accuracy: 0.7913 - val_loss: 5.5981 - val_accuracy: 0.1043\n",
            "Epoch 69/100\n",
            "375/375 [==============================] - 1s 3ms/step - loss: 0.6298 - accuracy: 0.7977 - val_loss: 5.6583 - val_accuracy: 0.1035\n",
            "Epoch 70/100\n",
            "375/375 [==============================] - 1s 4ms/step - loss: 0.6170 - accuracy: 0.8016 - val_loss: 5.7764 - val_accuracy: 0.1016\n",
            "Epoch 71/100\n",
            "375/375 [==============================] - 1s 3ms/step - loss: 0.6051 - accuracy: 0.8069 - val_loss: 5.8592 - val_accuracy: 0.1011\n",
            "Epoch 72/100\n",
            "375/375 [==============================] - 1s 3ms/step - loss: 0.5932 - accuracy: 0.8101 - val_loss: 5.8870 - val_accuracy: 0.1032\n",
            "Epoch 73/100\n",
            "375/375 [==============================] - 1s 3ms/step - loss: 0.5830 - accuracy: 0.8122 - val_loss: 6.0060 - val_accuracy: 0.1029\n",
            "Epoch 74/100\n",
            "375/375 [==============================] - 1s 3ms/step - loss: 0.5691 - accuracy: 0.8210 - val_loss: 6.0787 - val_accuracy: 0.1055\n",
            "Epoch 75/100\n",
            "375/375 [==============================] - 1s 3ms/step - loss: 0.5572 - accuracy: 0.8236 - val_loss: 6.1924 - val_accuracy: 0.1047\n",
            "Epoch 76/100\n",
            "375/375 [==============================] - 2s 4ms/step - loss: 0.5484 - accuracy: 0.8258 - val_loss: 6.2247 - val_accuracy: 0.1058\n",
            "Epoch 77/100\n",
            "375/375 [==============================] - 1s 4ms/step - loss: 0.5385 - accuracy: 0.8298 - val_loss: 6.3237 - val_accuracy: 0.1024\n",
            "Epoch 78/100\n",
            "375/375 [==============================] - 1s 4ms/step - loss: 0.5284 - accuracy: 0.8329 - val_loss: 6.3776 - val_accuracy: 0.1049\n",
            "Epoch 79/100\n",
            "375/375 [==============================] - 1s 4ms/step - loss: 0.5196 - accuracy: 0.8355 - val_loss: 6.4435 - val_accuracy: 0.1039\n",
            "Epoch 80/100\n",
            "375/375 [==============================] - 1s 4ms/step - loss: 0.5077 - accuracy: 0.8394 - val_loss: 6.5282 - val_accuracy: 0.0989\n",
            "Epoch 81/100\n",
            "375/375 [==============================] - 1s 4ms/step - loss: 0.4990 - accuracy: 0.8422 - val_loss: 6.5687 - val_accuracy: 0.1062\n",
            "Epoch 82/100\n",
            "375/375 [==============================] - 1s 3ms/step - loss: 0.4891 - accuracy: 0.8446 - val_loss: 6.6723 - val_accuracy: 0.1058\n",
            "Epoch 83/100\n",
            "375/375 [==============================] - 1s 3ms/step - loss: 0.4791 - accuracy: 0.8499 - val_loss: 6.7444 - val_accuracy: 0.1040\n",
            "Epoch 84/100\n",
            "375/375 [==============================] - 1s 4ms/step - loss: 0.4733 - accuracy: 0.8493 - val_loss: 6.8354 - val_accuracy: 0.1028\n",
            "Epoch 85/100\n",
            "375/375 [==============================] - 2s 5ms/step - loss: 0.4635 - accuracy: 0.8524 - val_loss: 6.8714 - val_accuracy: 0.1015\n",
            "Epoch 86/100\n",
            "375/375 [==============================] - 1s 4ms/step - loss: 0.4537 - accuracy: 0.8593 - val_loss: 7.0184 - val_accuracy: 0.1011\n",
            "Epoch 87/100\n",
            "375/375 [==============================] - 1s 3ms/step - loss: 0.4468 - accuracy: 0.8593 - val_loss: 7.1104 - val_accuracy: 0.1062\n",
            "Epoch 88/100\n",
            "375/375 [==============================] - 1s 3ms/step - loss: 0.4377 - accuracy: 0.8620 - val_loss: 7.0977 - val_accuracy: 0.1030\n",
            "Epoch 89/100\n",
            "375/375 [==============================] - 1s 3ms/step - loss: 0.4289 - accuracy: 0.8661 - val_loss: 7.1515 - val_accuracy: 0.1001\n",
            "Epoch 90/100\n",
            "375/375 [==============================] - 1s 3ms/step - loss: 0.4211 - accuracy: 0.8677 - val_loss: 7.2360 - val_accuracy: 0.1048\n",
            "Epoch 91/100\n",
            "375/375 [==============================] - 1s 3ms/step - loss: 0.4159 - accuracy: 0.8710 - val_loss: 7.3362 - val_accuracy: 0.1034\n",
            "Epoch 92/100\n",
            "375/375 [==============================] - 1s 4ms/step - loss: 0.4055 - accuracy: 0.8742 - val_loss: 7.4287 - val_accuracy: 0.1039\n",
            "Epoch 93/100\n",
            "375/375 [==============================] - 1s 3ms/step - loss: 0.4012 - accuracy: 0.8754 - val_loss: 7.4694 - val_accuracy: 0.1013\n",
            "Epoch 94/100\n",
            "375/375 [==============================] - 2s 4ms/step - loss: 0.3923 - accuracy: 0.8772 - val_loss: 7.5077 - val_accuracy: 0.1052\n",
            "Epoch 95/100\n",
            "375/375 [==============================] - 2s 4ms/step - loss: 0.3847 - accuracy: 0.8809 - val_loss: 7.6212 - val_accuracy: 0.1075\n",
            "Epoch 96/100\n",
            "375/375 [==============================] - 1s 3ms/step - loss: 0.3792 - accuracy: 0.8826 - val_loss: 7.7511 - val_accuracy: 0.1023\n",
            "Epoch 97/100\n",
            "375/375 [==============================] - 1s 3ms/step - loss: 0.3730 - accuracy: 0.8854 - val_loss: 7.7727 - val_accuracy: 0.1035\n",
            "Epoch 98/100\n",
            "375/375 [==============================] - 1s 4ms/step - loss: 0.3656 - accuracy: 0.8856 - val_loss: 7.8712 - val_accuracy: 0.1057\n",
            "Epoch 99/100\n",
            "375/375 [==============================] - 1s 3ms/step - loss: 0.3587 - accuracy: 0.8899 - val_loss: 7.9624 - val_accuracy: 0.1028\n",
            "Epoch 100/100\n",
            "375/375 [==============================] - 1s 3ms/step - loss: 0.3541 - accuracy: 0.8907 - val_loss: 7.9930 - val_accuracy: 0.1038\n"
          ]
        }
      ]
    },
    {
      "cell_type": "code",
      "source": [
        "import matplotlib.pyplot as plt\n",
        "val_acc_shuff = history_shuff.history[\"val_accuracy\"]\n",
        "train_acc_shuff = history_shuff.history[\"accuracy\"]\n",
        "\n",
        "epochs = range(1, 101)\n",
        "\n",
        "plt.plot(epochs, val_acc_shuff, \"b-\",\n",
        "         label=\"Validation accuracy with shuffled data\")\n",
        "plt.plot(epochs, train_acc_shuff, \"r--\",\n",
        "         label=\"Training accuracy with shuffled data\")\n",
        "\n",
        "plt.plot()\n",
        "plt.title(\"Training meaningless data\")\n",
        "plt.xlabel(\"Epochs\")\n",
        "plt.ylabel(\"Accuracy\")\n",
        "plt.legend()"
      ],
      "metadata": {
        "id": "XKUsHujw6-HR",
        "outputId": "a2658d4b-1301-4972-bc85-edcf9ea2a4d5",
        "colab": {
          "base_uri": "https://localhost:8080/",
          "height": 490
        }
      },
      "execution_count": 14,
      "outputs": [
        {
          "output_type": "execute_result",
          "data": {
            "text/plain": [
              "<matplotlib.legend.Legend at 0x7f0c9949cfd0>"
            ]
          },
          "metadata": {},
          "execution_count": 14
        },
        {
          "output_type": "display_data",
          "data": {
            "text/plain": [
              "<Figure size 640x480 with 1 Axes>"
            ],
            "image/png": "[encoded data removed]"
          },
          "metadata": {}
        }
      ]
    },
    {
      "cell_type": "markdown",
      "metadata": {
        "id": "YLgEQIFgxWGl"
      },
      "source": [
        "#### The manifold hypothesis"
      ]
    },
    {
      "cell_type": "markdown",
      "metadata": {
        "id": "7zE9K1dNxWGm"
      },
      "source": [
        "#### Interpolation as a source of generalization"
      ]
    },
    {
      "cell_type": "markdown",
      "metadata": {
        "id": "vTCiJqXcxWGm"
      },
      "source": [
        "#### Why deep learning works"
      ]
    },
    {
      "cell_type": "markdown",
      "metadata": {
        "id": "QoqxuOrMxWGn"
      },
      "source": [
        "#### Training data is paramount"
      ]
    },
    {
      "cell_type": "markdown",
      "metadata": {
        "id": "AqKNnVglxWGn"
      },
      "source": [
        "## Evaluating machine-learning models"
      ]
    },
    {
      "cell_type": "markdown",
      "metadata": {
        "id": "frV2UtwnxWGo"
      },
      "source": [
        "### Training, validation, and test sets"
      ]
    },
    {
      "cell_type": "markdown",
      "metadata": {
        "id": "FWoMCio0xWGo"
      },
      "source": [
        "#### Simple hold-out validation"
      ]
    },
    {
      "cell_type": "markdown",
      "metadata": {
        "id": "oR6Gx5oHxWGp"
      },
      "source": [
        "#### K-fold validation"
      ]
    },
    {
      "cell_type": "markdown",
      "metadata": {
        "id": "Wt4fkG1mxWGp"
      },
      "source": [
        "#### Iterated K-fold validation with shuffling"
      ]
    },
    {
      "cell_type": "markdown",
      "metadata": {
        "id": "F_Rh9H9NxWGq"
      },
      "source": [
        "### Beating a common-sense baseline"
      ]
    },
    {
      "cell_type": "markdown",
      "metadata": {
        "id": "8wq2ZbhsxWGq"
      },
      "source": [
        "### Things to keep in mind about model evaluation"
      ]
    },
    {
      "cell_type": "markdown",
      "metadata": {
        "id": "20uJpN3-xWGq"
      },
      "source": [
        "## Improving model fit"
      ]
    },
    {
      "cell_type": "markdown",
      "metadata": {
        "id": "gEmR9JOixWGr"
      },
      "source": [
        "### Tuning key gradient descent parameters"
      ]
    },
    {
      "cell_type": "markdown",
      "metadata": {
        "id": "FaVxV5cQxWGr"
      },
      "source": [
        "**Training a MNIST model with an incorrectly high learning rate**"
      ]
    },
    {
      "cell_type": "code",
      "execution_count": 15,
      "metadata": {
        "id": "4MiMOBaUxWGr",
        "outputId": "f072ebb8-041a-493e-def3-fb35cc730558",
        "colab": {
          "base_uri": "https://localhost:8080/"
        }
      },
      "outputs": [
        {
          "output_type": "stream",
          "name": "stdout",
          "text": [
            "Epoch 1/10\n",
            "375/375 [==============================] - 2s 4ms/step - loss: 537.1330 - accuracy: 0.2835 - val_loss: 2.3265 - val_accuracy: 0.1987\n",
            "Epoch 2/10\n",
            "375/375 [==============================] - 1s 3ms/step - loss: 3.1685 - accuracy: 0.1923 - val_loss: 2.1471 - val_accuracy: 0.1849\n",
            "Epoch 3/10\n",
            "375/375 [==============================] - 1s 3ms/step - loss: 2.4579 - accuracy: 0.1886 - val_loss: 2.2722 - val_accuracy: 0.1774\n",
            "Epoch 4/10\n",
            "375/375 [==============================] - 1s 3ms/step - loss: 2.3641 - accuracy: 0.1776 - val_loss: 2.2188 - val_accuracy: 0.1877\n",
            "Epoch 5/10\n",
            "375/375 [==============================] - 1s 3ms/step - loss: 2.3266 - accuracy: 0.1781 - val_loss: 2.2288 - val_accuracy: 0.1578\n",
            "Epoch 6/10\n",
            "375/375 [==============================] - 2s 4ms/step - loss: 2.3061 - accuracy: 0.1867 - val_loss: 2.0741 - val_accuracy: 0.1959\n",
            "Epoch 7/10\n",
            "375/375 [==============================] - 2s 4ms/step - loss: 2.3066 - accuracy: 0.1884 - val_loss: 2.1813 - val_accuracy: 0.1844\n",
            "Epoch 8/10\n",
            "375/375 [==============================] - 1s 3ms/step - loss: 2.5464 - accuracy: 0.1812 - val_loss: 2.3210 - val_accuracy: 0.1648\n",
            "Epoch 9/10\n",
            "375/375 [==============================] - 1s 3ms/step - loss: 2.3359 - accuracy: 0.1730 - val_loss: 2.3829 - val_accuracy: 0.1466\n",
            "Epoch 10/10\n",
            "375/375 [==============================] - 1s 4ms/step - loss: 2.3042 - accuracy: 0.1772 - val_loss: 2.3504 - val_accuracy: 0.1727\n"
          ]
        },
        {
          "output_type": "execute_result",
          "data": {
            "text/plain": [
              "<keras.callbacks.History at 0x7f0d8677e340>"
            ]
          },
          "metadata": {},
          "execution_count": 15
        }
      ],
      "source": [
        "(train_images, train_labels), _ = mnist.load_data()\n",
        "train_images = train_images.reshape((60000, 28 * 28))\n",
        "train_images = train_images.astype(\"float32\") / 255\n",
        "\n",
        "model = keras.Sequential([\n",
        "    layers.Dense(512, activation=\"relu\"),\n",
        "    layers.Dense(10, activation=\"softmax\")\n",
        "])\n",
        "model.compile(optimizer=keras.optimizers.RMSprop(1.),\n",
        "              loss=\"sparse_categorical_crossentropy\",\n",
        "              metrics=[\"accuracy\"])\n",
        "model.fit(train_images, train_labels,\n",
        "          epochs=10,\n",
        "          batch_size=128,\n",
        "          validation_split=0.2)"
      ]
    },
    {
      "cell_type": "markdown",
      "metadata": {
        "id": "AtSrW-K0xWGs"
      },
      "source": [
        "**The same model with a more appropriate learning rate**"
      ]
    },
    {
      "cell_type": "code",
      "execution_count": 16,
      "metadata": {
        "id": "jqBtkPxnxWGs",
        "outputId": "c3535441-88e1-45ca-96ae-7c98eba038c9",
        "colab": {
          "base_uri": "https://localhost:8080/"
        }
      },
      "outputs": [
        {
          "output_type": "stream",
          "name": "stdout",
          "text": [
            "Epoch 1/10\n",
            "375/375 [==============================] - 2s 4ms/step - loss: 0.3516 - accuracy: 0.9116 - val_loss: 0.1309 - val_accuracy: 0.9617\n",
            "Epoch 2/10\n",
            "375/375 [==============================] - 1s 3ms/step - loss: 0.1272 - accuracy: 0.9645 - val_loss: 0.1332 - val_accuracy: 0.9687\n",
            "Epoch 3/10\n",
            "375/375 [==============================] - 1s 3ms/step - loss: 0.1012 - accuracy: 0.9737 - val_loss: 0.1452 - val_accuracy: 0.9647\n",
            "Epoch 4/10\n",
            "375/375 [==============================] - 1s 3ms/step - loss: 0.0828 - accuracy: 0.9793 - val_loss: 0.1735 - val_accuracy: 0.9671\n",
            "Epoch 5/10\n",
            "375/375 [==============================] - 2s 4ms/step - loss: 0.0741 - accuracy: 0.9817 - val_loss: 0.1657 - val_accuracy: 0.9697\n",
            "Epoch 6/10\n",
            "375/375 [==============================] - 2s 4ms/step - loss: 0.0655 - accuracy: 0.9843 - val_loss: 0.1920 - val_accuracy: 0.9696\n",
            "Epoch 7/10\n",
            "375/375 [==============================] - 1s 3ms/step - loss: 0.0563 - accuracy: 0.9866 - val_loss: 0.1753 - val_accuracy: 0.9738\n",
            "Epoch 8/10\n",
            "375/375 [==============================] - 1s 3ms/step - loss: 0.0503 - accuracy: 0.9885 - val_loss: 0.1949 - val_accuracy: 0.9714\n",
            "Epoch 9/10\n",
            "375/375 [==============================] - 1s 3ms/step - loss: 0.0428 - accuracy: 0.9906 - val_loss: 0.2198 - val_accuracy: 0.9746\n",
            "Epoch 10/10\n",
            "375/375 [==============================] - 1s 3ms/step - loss: 0.0383 - accuracy: 0.9914 - val_loss: 0.2436 - val_accuracy: 0.9719\n"
          ]
        },
        {
          "output_type": "execute_result",
          "data": {
            "text/plain": [
              "<keras.callbacks.History at 0x7f0d8668c670>"
            ]
          },
          "metadata": {},
          "execution_count": 16
        }
      ],
      "source": [
        "model = keras.Sequential([\n",
        "    layers.Dense(512, activation=\"relu\"),\n",
        "    layers.Dense(10, activation=\"softmax\")\n",
        "])\n",
        "model.compile(optimizer=keras.optimizers.RMSprop(1e-2),\n",
        "              loss=\"sparse_categorical_crossentropy\",\n",
        "              metrics=[\"accuracy\"])\n",
        "model.fit(train_images, train_labels,\n",
        "          epochs=10,\n",
        "          batch_size=128,\n",
        "          validation_split=0.2)"
      ]
    },
    {
      "cell_type": "markdown",
      "source": [
        "practice in class"
      ],
      "metadata": {
        "id": "BiIlbF2S9JiD"
      }
    },
    {
      "cell_type": "code",
      "source": [
        "model = keras.Sequential([\n",
        "    layers.Dense(512, activation=\"relu\"),\n",
        "    layers.Dense(10, activation=\"softmax\")\n",
        "])\n",
        "model.compile(optimizer=keras.optimizers.RMSprop(1e-3),\n",
        "              loss=\"sparse_categorical_crossentropy\",\n",
        "              metrics=[\"accuracy\"])\n",
        "model.fit(train_images, train_labels,\n",
        "          epochs=10,\n",
        "          batch_size=128,\n",
        "          validation_split=0.2)"
      ],
      "metadata": {
        "id": "EoZmLMB69JLQ",
        "outputId": "4e9fe086-c3b5-414a-f564-9ff916562046",
        "colab": {
          "base_uri": "https://localhost:8080/"
        }
      },
      "execution_count": 18,
      "outputs": [
        {
          "output_type": "stream",
          "name": "stdout",
          "text": [
            "Epoch 1/10\n",
            "375/375 [==============================] - 2s 4ms/step - loss: 0.2973 - accuracy: 0.9146 - val_loss: 0.1548 - val_accuracy: 0.9568\n",
            "Epoch 2/10\n",
            "375/375 [==============================] - 1s 3ms/step - loss: 0.1212 - accuracy: 0.9649 - val_loss: 0.1019 - val_accuracy: 0.9690\n",
            "Epoch 3/10\n",
            "375/375 [==============================] - 1s 3ms/step - loss: 0.0799 - accuracy: 0.9765 - val_loss: 0.0935 - val_accuracy: 0.9712\n",
            "Epoch 4/10\n",
            "375/375 [==============================] - 1s 3ms/step - loss: 0.0580 - accuracy: 0.9829 - val_loss: 0.0858 - val_accuracy: 0.9738\n",
            "Epoch 5/10\n",
            "375/375 [==============================] - 1s 3ms/step - loss: 0.0431 - accuracy: 0.9870 - val_loss: 0.0797 - val_accuracy: 0.9771\n",
            "Epoch 6/10\n",
            "375/375 [==============================] - 1s 3ms/step - loss: 0.0329 - accuracy: 0.9905 - val_loss: 0.0751 - val_accuracy: 0.9777\n",
            "Epoch 7/10\n",
            "375/375 [==============================] - 2s 5ms/step - loss: 0.0250 - accuracy: 0.9932 - val_loss: 0.0810 - val_accuracy: 0.9773\n",
            "Epoch 8/10\n",
            "375/375 [==============================] - 1s 4ms/step - loss: 0.0193 - accuracy: 0.9947 - val_loss: 0.0751 - val_accuracy: 0.9793\n",
            "Epoch 9/10\n",
            "375/375 [==============================] - 1s 3ms/step - loss: 0.0141 - accuracy: 0.9966 - val_loss: 0.0818 - val_accuracy: 0.9783\n",
            "Epoch 10/10\n",
            "375/375 [==============================] - 1s 3ms/step - loss: 0.0101 - accuracy: 0.9976 - val_loss: 0.0840 - val_accuracy: 0.9778\n"
          ]
        },
        {
          "output_type": "execute_result",
          "data": {
            "text/plain": [
              "<keras.callbacks.History at 0x7f0d87550130>"
            ]
          },
          "metadata": {},
          "execution_count": 18
        }
      ]
    },
    {
      "cell_type": "code",
      "source": [
        "model = keras.Sequential([\n",
        "    layers.Dense(512, activation=\"relu\"),\n",
        "    layers.Dense(10, activation=\"softmax\")\n",
        "])\n",
        "model.compile(optimizer=keras.optimizers.RMSprop(1e-5),\n",
        "              loss=\"sparse_categorical_crossentropy\",\n",
        "              metrics=[\"accuracy\"])\n",
        "model.fit(train_images, train_labels,\n",
        "          epochs=10,\n",
        "          batch_size=128,\n",
        "          validation_split=0.2)"
      ],
      "metadata": {
        "id": "vizWnlGP9cm6",
        "outputId": "1f409b4b-4f41-465a-8bf9-e7bcc99e35ca",
        "colab": {
          "base_uri": "https://localhost:8080/"
        }
      },
      "execution_count": 19,
      "outputs": [
        {
          "output_type": "stream",
          "name": "stdout",
          "text": [
            "Epoch 1/10\n",
            "375/375 [==============================] - 2s 4ms/step - loss: 1.9823 - accuracy: 0.4423 - val_loss: 1.6059 - val_accuracy: 0.7140\n",
            "Epoch 2/10\n",
            "375/375 [==============================] - 1s 3ms/step - loss: 1.3383 - accuracy: 0.7630 - val_loss: 1.0678 - val_accuracy: 0.8282\n",
            "Epoch 3/10\n",
            "375/375 [==============================] - 1s 3ms/step - loss: 0.9293 - accuracy: 0.8276 - val_loss: 0.7580 - val_accuracy: 0.8606\n",
            "Epoch 4/10\n",
            "375/375 [==============================] - 1s 3ms/step - loss: 0.7026 - accuracy: 0.8543 - val_loss: 0.5926 - val_accuracy: 0.8788\n",
            "Epoch 5/10\n",
            "375/375 [==============================] - 1s 4ms/step - loss: 0.5768 - accuracy: 0.8707 - val_loss: 0.4995 - val_accuracy: 0.8898\n",
            "Epoch 6/10\n",
            "375/375 [==============================] - 2s 5ms/step - loss: 0.5020 - accuracy: 0.8821 - val_loss: 0.4427 - val_accuracy: 0.8972\n",
            "Epoch 7/10\n",
            "375/375 [==============================] - 1s 3ms/step - loss: 0.4533 - accuracy: 0.8899 - val_loss: 0.4049 - val_accuracy: 0.9026\n",
            "Epoch 8/10\n",
            "375/375 [==============================] - 1s 3ms/step - loss: 0.4191 - accuracy: 0.8955 - val_loss: 0.3780 - val_accuracy: 0.9065\n",
            "Epoch 9/10\n",
            "375/375 [==============================] - 1s 4ms/step - loss: 0.3937 - accuracy: 0.9002 - val_loss: 0.3571 - val_accuracy: 0.9097\n",
            "Epoch 10/10\n",
            "375/375 [==============================] - 1s 3ms/step - loss: 0.3737 - accuracy: 0.9033 - val_loss: 0.3411 - val_accuracy: 0.9118\n"
          ]
        },
        {
          "output_type": "execute_result",
          "data": {
            "text/plain": [
              "<keras.callbacks.History at 0x7f0d874703a0>"
            ]
          },
          "metadata": {},
          "execution_count": 19
        }
      ]
    },
    {
      "cell_type": "markdown",
      "metadata": {
        "id": "KtM4OihIxWGt"
      },
      "source": [
        "### Leveraging better architecture priors"
      ]
    },
    {
      "cell_type": "markdown",
      "metadata": {
        "id": "ucWrgRnbxWGt"
      },
      "source": [
        "### Increasing model capacity"
      ]
    },
    {
      "cell_type": "markdown",
      "metadata": {
        "id": "j7DXBzwbxWGt"
      },
      "source": [
        "**A simple logistic regression on MNIST**"
      ]
    },
    {
      "cell_type": "code",
      "execution_count": null,
      "metadata": {
        "id": "-jSjc3eYxWGu"
      },
      "outputs": [],
      "source": [
        "model = keras.Sequential([layers.Dense(10, activation=\"softmax\")])\n",
        "model.compile(optimizer=\"rmsprop\",\n",
        "              loss=\"sparse_categorical_crossentropy\",\n",
        "              metrics=[\"accuracy\"])\n",
        "history_small_model = model.fit(\n",
        "    train_images, train_labels,\n",
        "    epochs=20,\n",
        "    batch_size=128,\n",
        "    validation_split=0.2)"
      ]
    },
    {
      "cell_type": "code",
      "execution_count": null,
      "metadata": {
        "id": "u5-IL3hNxWGv"
      },
      "outputs": [],
      "source": [
        "import matplotlib.pyplot as plt\n",
        "val_loss = history_small_model.history[\"val_loss\"]\n",
        "epochs = range(1, 21)\n",
        "plt.plot(epochs, val_loss, \"b--\",\n",
        "         label=\"Validation loss\")\n",
        "plt.title(\"Effect of insufficient model capacity on validation loss\")\n",
        "plt.xlabel(\"Epochs\")\n",
        "plt.ylabel(\"Loss\")\n",
        "plt.legend()"
      ]
    },
    {
      "cell_type": "code",
      "execution_count": null,
      "metadata": {
        "id": "K6czGSJpxWGv"
      },
      "outputs": [],
      "source": [
        "model = keras.Sequential([\n",
        "    layers.Dense(96, activation=\"relu\"),\n",
        "    layers.Dense(96, activation=\"relu\"),\n",
        "    layers.Dense(10, activation=\"softmax\"),\n",
        "])\n",
        "model.compile(optimizer=\"rmsprop\",\n",
        "              loss=\"sparse_categorical_crossentropy\",\n",
        "              metrics=[\"accuracy\"])\n",
        "history_large_model = model.fit(\n",
        "    train_images, train_labels,\n",
        "    epochs=20,\n",
        "    batch_size=128,\n",
        "    validation_split=0.2)"
      ]
    },
    {
      "cell_type": "markdown",
      "metadata": {
        "id": "oJer-9HexWGw"
      },
      "source": [
        "## Improving generalization"
      ]
    },
    {
      "cell_type": "markdown",
      "metadata": {
        "id": "z5tQ6SEFxWGw"
      },
      "source": [
        "### Dataset curation"
      ]
    },
    {
      "cell_type": "markdown",
      "metadata": {
        "id": "W7m6U55WxWGw"
      },
      "source": [
        "### Feature engineering"
      ]
    },
    {
      "cell_type": "markdown",
      "metadata": {
        "id": "nvg66mBgxWGx"
      },
      "source": [
        "### Using early stopping"
      ]
    },
    {
      "cell_type": "markdown",
      "metadata": {
        "id": "fJPuF-1QxWGx"
      },
      "source": [
        "### Regularizing your model"
      ]
    },
    {
      "cell_type": "markdown",
      "metadata": {
        "id": "A_gmDAjMxWGx"
      },
      "source": [
        "#### Reducing the network's size"
      ]
    },
    {
      "cell_type": "markdown",
      "metadata": {
        "id": "t__OOiagxWGy"
      },
      "source": [
        "**Original model**"
      ]
    },
    {
      "cell_type": "code",
      "execution_count": 29,
      "metadata": {
        "id": "Ds4CKmBWxWGy",
        "outputId": "68cbb361-53c8-48c8-ce69-0146a2eceb6c",
        "colab": {
          "base_uri": "https://localhost:8080/"
        }
      },
      "outputs": [
        {
          "output_type": "stream",
          "name": "stdout",
          "text": [
            "Epoch 1/20\n",
            "30/30 [==============================] - 3s 58ms/step - loss: 0.5763 - accuracy: 0.7628 - val_loss: 0.4414 - val_accuracy: 0.8556\n",
            "Epoch 2/20\n",
            "30/30 [==============================] - 1s 32ms/step - loss: 0.3685 - accuracy: 0.8791 - val_loss: 0.3485 - val_accuracy: 0.8711\n",
            "Epoch 3/20\n",
            "30/30 [==============================] - 1s 41ms/step - loss: 0.2724 - accuracy: 0.9103 - val_loss: 0.2940 - val_accuracy: 0.8889\n",
            "Epoch 4/20\n",
            "30/30 [==============================] - 1s 22ms/step - loss: 0.2205 - accuracy: 0.9259 - val_loss: 0.2944 - val_accuracy: 0.8826\n",
            "Epoch 5/20\n",
            "30/30 [==============================] - 1s 25ms/step - loss: 0.1830 - accuracy: 0.9390 - val_loss: 0.2833 - val_accuracy: 0.8870\n",
            "Epoch 6/20\n",
            "30/30 [==============================] - 1s 25ms/step - loss: 0.1548 - accuracy: 0.9501 - val_loss: 0.2793 - val_accuracy: 0.8877\n",
            "Epoch 7/20\n",
            "30/30 [==============================] - 1s 22ms/step - loss: 0.1353 - accuracy: 0.9561 - val_loss: 0.2974 - val_accuracy: 0.8841\n",
            "Epoch 8/20\n",
            "30/30 [==============================] - 1s 24ms/step - loss: 0.1146 - accuracy: 0.9657 - val_loss: 0.3148 - val_accuracy: 0.8791\n",
            "Epoch 9/20\n",
            "30/30 [==============================] - 1s 23ms/step - loss: 0.1000 - accuracy: 0.9717 - val_loss: 0.3191 - val_accuracy: 0.8831\n",
            "Epoch 10/20\n",
            "30/30 [==============================] - 1s 23ms/step - loss: 0.0873 - accuracy: 0.9743 - val_loss: 0.3269 - val_accuracy: 0.8839\n",
            "Epoch 11/20\n",
            "30/30 [==============================] - 1s 25ms/step - loss: 0.0771 - accuracy: 0.9796 - val_loss: 0.3458 - val_accuracy: 0.8799\n",
            "Epoch 12/20\n",
            "30/30 [==============================] - 1s 23ms/step - loss: 0.0645 - accuracy: 0.9853 - val_loss: 0.3868 - val_accuracy: 0.8721\n",
            "Epoch 13/20\n",
            "30/30 [==============================] - 1s 23ms/step - loss: 0.0568 - accuracy: 0.9865 - val_loss: 0.3814 - val_accuracy: 0.8797\n",
            "Epoch 14/20\n",
            "30/30 [==============================] - 1s 22ms/step - loss: 0.0495 - accuracy: 0.9885 - val_loss: 0.4051 - val_accuracy: 0.8758\n",
            "Epoch 15/20\n",
            "30/30 [==============================] - 1s 23ms/step - loss: 0.0415 - accuracy: 0.9917 - val_loss: 0.4288 - val_accuracy: 0.8761\n",
            "Epoch 16/20\n",
            "30/30 [==============================] - 1s 23ms/step - loss: 0.0363 - accuracy: 0.9934 - val_loss: 0.4571 - val_accuracy: 0.8734\n",
            "Epoch 17/20\n",
            "30/30 [==============================] - 1s 25ms/step - loss: 0.0314 - accuracy: 0.9943 - val_loss: 0.4664 - val_accuracy: 0.8749\n",
            "Epoch 18/20\n",
            "30/30 [==============================] - 1s 29ms/step - loss: 0.0269 - accuracy: 0.9953 - val_loss: 0.4897 - val_accuracy: 0.8731\n",
            "Epoch 19/20\n",
            "30/30 [==============================] - 1s 34ms/step - loss: 0.0216 - accuracy: 0.9975 - val_loss: 0.5114 - val_accuracy: 0.8723\n",
            "Epoch 20/20\n",
            "30/30 [==============================] - 1s 29ms/step - loss: 0.0211 - accuracy: 0.9967 - val_loss: 0.5310 - val_accuracy: 0.8710\n"
          ]
        }
      ],
      "source": [
        "from tensorflow.keras.datasets import imdb\n",
        "(train_data, train_labels), _ = imdb.load_data(num_words=10000)\n",
        "\n",
        "def vectorize_sequences(sequences, dimension=10000):\n",
        "    results = np.zeros((len(sequences), dimension))\n",
        "    for i, sequence in enumerate(sequences):\n",
        "        results[i, sequence] = 1.\n",
        "    return results\n",
        "train_data = vectorize_sequences(train_data)\n",
        "\n",
        "model = keras.Sequential([\n",
        "    layers.Dense(16, activation=\"relu\"),\n",
        "    layers.Dense(16, activation=\"relu\"),\n",
        "    layers.Dense(1, activation=\"sigmoid\")\n",
        "])\n",
        "model.compile(optimizer=\"rmsprop\",\n",
        "              loss=\"binary_crossentropy\",\n",
        "              metrics=[\"accuracy\"])\n",
        "history_original = model.fit(train_data, train_labels,\n",
        "                             epochs=20, batch_size=512, validation_split=0.4)"
      ]
    },
    {
      "cell_type": "markdown",
      "metadata": {
        "id": "SHP5LGOPxWGy"
      },
      "source": [
        "**Version of the model with lower capacity**"
      ]
    },
    {
      "cell_type": "code",
      "execution_count": 22,
      "metadata": {
        "id": "ANiRGWUKxWGz",
        "outputId": "8334cd8c-7df4-4750-90c9-1de68e2a043a",
        "colab": {
          "base_uri": "https://localhost:8080/"
        }
      },
      "outputs": [
        {
          "output_type": "stream",
          "name": "stdout",
          "text": [
            "Epoch 1/20\n",
            "30/30 [==============================] - 3s 78ms/step - loss: 0.6208 - accuracy: 0.6613 - val_loss: 0.5683 - val_accuracy: 0.6723\n",
            "Epoch 2/20\n",
            "30/30 [==============================] - 1s 22ms/step - loss: 0.5180 - accuracy: 0.8161 - val_loss: 0.5042 - val_accuracy: 0.8631\n",
            "Epoch 3/20\n",
            "30/30 [==============================] - 1s 22ms/step - loss: 0.4540 - accuracy: 0.8789 - val_loss: 0.4527 - val_accuracy: 0.8736\n",
            "Epoch 4/20\n",
            "30/30 [==============================] - 1s 37ms/step - loss: 0.3911 - accuracy: 0.9104 - val_loss: 0.4013 - val_accuracy: 0.8840\n",
            "Epoch 5/20\n",
            "30/30 [==============================] - 1s 22ms/step - loss: 0.3278 - accuracy: 0.9323 - val_loss: 0.3578 - val_accuracy: 0.8846\n",
            "Epoch 6/20\n",
            "30/30 [==============================] - 1s 25ms/step - loss: 0.2710 - accuracy: 0.9427 - val_loss: 0.3271 - val_accuracy: 0.8839\n",
            "Epoch 7/20\n",
            "30/30 [==============================] - 1s 22ms/step - loss: 0.2279 - accuracy: 0.9491 - val_loss: 0.3047 - val_accuracy: 0.8893\n",
            "Epoch 8/20\n",
            "30/30 [==============================] - 1s 21ms/step - loss: 0.1957 - accuracy: 0.9562 - val_loss: 0.2967 - val_accuracy: 0.8848\n",
            "Epoch 9/20\n",
            "30/30 [==============================] - 1s 25ms/step - loss: 0.1706 - accuracy: 0.9602 - val_loss: 0.2882 - val_accuracy: 0.8870\n",
            "Epoch 10/20\n",
            "30/30 [==============================] - 1s 23ms/step - loss: 0.1516 - accuracy: 0.9629 - val_loss: 0.2829 - val_accuracy: 0.8890\n",
            "Epoch 11/20\n",
            "30/30 [==============================] - 1s 22ms/step - loss: 0.1355 - accuracy: 0.9674 - val_loss: 0.2867 - val_accuracy: 0.8869\n",
            "Epoch 12/20\n",
            "30/30 [==============================] - 1s 23ms/step - loss: 0.1233 - accuracy: 0.9699 - val_loss: 0.2902 - val_accuracy: 0.8867\n",
            "Epoch 13/20\n",
            "30/30 [==============================] - 1s 22ms/step - loss: 0.1125 - accuracy: 0.9741 - val_loss: 0.2971 - val_accuracy: 0.8855\n",
            "Epoch 14/20\n",
            "30/30 [==============================] - 1s 25ms/step - loss: 0.1036 - accuracy: 0.9768 - val_loss: 0.3034 - val_accuracy: 0.8832\n",
            "Epoch 15/20\n",
            "30/30 [==============================] - 1s 25ms/step - loss: 0.0955 - accuracy: 0.9791 - val_loss: 0.3124 - val_accuracy: 0.8818\n",
            "Epoch 16/20\n",
            "30/30 [==============================] - 1s 31ms/step - loss: 0.0879 - accuracy: 0.9815 - val_loss: 0.3215 - val_accuracy: 0.8810\n",
            "Epoch 17/20\n",
            "30/30 [==============================] - 1s 46ms/step - loss: 0.0807 - accuracy: 0.9836 - val_loss: 0.3401 - val_accuracy: 0.8802\n",
            "Epoch 18/20\n",
            "30/30 [==============================] - 1s 22ms/step - loss: 0.0754 - accuracy: 0.9856 - val_loss: 0.3424 - val_accuracy: 0.8790\n",
            "Epoch 19/20\n",
            "30/30 [==============================] - 1s 22ms/step - loss: 0.0698 - accuracy: 0.9872 - val_loss: 0.3499 - val_accuracy: 0.8799\n",
            "Epoch 20/20\n",
            "30/30 [==============================] - 1s 25ms/step - loss: 0.0650 - accuracy: 0.9885 - val_loss: 0.3604 - val_accuracy: 0.8788\n"
          ]
        }
      ],
      "source": [
        "model = keras.Sequential([\n",
        "    layers.Dense(4, activation=\"relu\"),\n",
        "    layers.Dense(4, activation=\"relu\"),\n",
        "    layers.Dense(1, activation=\"sigmoid\")\n",
        "])\n",
        "model.compile(optimizer=\"rmsprop\",\n",
        "              loss=\"binary_crossentropy\",\n",
        "              metrics=[\"accuracy\"])\n",
        "history_smaller_model = model.fit(\n",
        "    train_data, train_labels,\n",
        "    epochs=20, batch_size=512, validation_split=0.4)"
      ]
    },
    {
      "cell_type": "markdown",
      "metadata": {
        "id": "c54NHqD8xWGz"
      },
      "source": [
        "**Version of the model with higher capacity**"
      ]
    },
    {
      "cell_type": "code",
      "execution_count": 23,
      "metadata": {
        "id": "gxRvuMBixWG0",
        "outputId": "108f0428-1d77-4cc7-d56d-15d8d2821ab2",
        "colab": {
          "base_uri": "https://localhost:8080/"
        }
      },
      "outputs": [
        {
          "output_type": "stream",
          "name": "stdout",
          "text": [
            "Epoch 1/20\n",
            "30/30 [==============================] - 3s 59ms/step - loss: 0.5641 - accuracy: 0.7154 - val_loss: 0.3829 - val_accuracy: 0.8330\n",
            "Epoch 2/20\n",
            "30/30 [==============================] - 1s 32ms/step - loss: 0.3339 - accuracy: 0.8613 - val_loss: 0.2912 - val_accuracy: 0.8782\n",
            "Epoch 3/20\n",
            "30/30 [==============================] - 1s 31ms/step - loss: 0.2374 - accuracy: 0.9048 - val_loss: 0.3199 - val_accuracy: 0.8661\n",
            "Epoch 4/20\n",
            "30/30 [==============================] - 1s 26ms/step - loss: 0.1882 - accuracy: 0.9255 - val_loss: 0.2942 - val_accuracy: 0.8829\n",
            "Epoch 5/20\n",
            "30/30 [==============================] - 1s 42ms/step - loss: 0.1397 - accuracy: 0.9475 - val_loss: 0.2888 - val_accuracy: 0.8871\n",
            "Epoch 6/20\n",
            "30/30 [==============================] - 1s 36ms/step - loss: 0.1029 - accuracy: 0.9643 - val_loss: 0.3450 - val_accuracy: 0.8751\n",
            "Epoch 7/20\n",
            "30/30 [==============================] - 1s 28ms/step - loss: 0.0793 - accuracy: 0.9741 - val_loss: 0.5659 - val_accuracy: 0.8435\n",
            "Epoch 8/20\n",
            "30/30 [==============================] - 1s 27ms/step - loss: 0.0504 - accuracy: 0.9829 - val_loss: 0.6833 - val_accuracy: 0.8361\n",
            "Epoch 9/20\n",
            "30/30 [==============================] - 1s 28ms/step - loss: 0.0608 - accuracy: 0.9819 - val_loss: 0.4350 - val_accuracy: 0.8823\n",
            "Epoch 10/20\n",
            "30/30 [==============================] - 1s 28ms/step - loss: 0.0809 - accuracy: 0.9793 - val_loss: 0.3837 - val_accuracy: 0.8831\n",
            "Epoch 11/20\n",
            "30/30 [==============================] - 1s 27ms/step - loss: 0.0070 - accuracy: 0.9994 - val_loss: 0.4888 - val_accuracy: 0.8799\n",
            "Epoch 12/20\n",
            "30/30 [==============================] - 1s 28ms/step - loss: 0.0690 - accuracy: 0.9829 - val_loss: 0.4172 - val_accuracy: 0.8821\n",
            "Epoch 13/20\n",
            "30/30 [==============================] - 1s 28ms/step - loss: 0.0040 - accuracy: 0.9999 - val_loss: 0.5166 - val_accuracy: 0.8831\n",
            "Epoch 14/20\n",
            "30/30 [==============================] - 1s 26ms/step - loss: 0.0018 - accuracy: 0.9999 - val_loss: 0.5851 - val_accuracy: 0.8838\n",
            "Epoch 15/20\n",
            "30/30 [==============================] - 1s 32ms/step - loss: 0.0812 - accuracy: 0.9835 - val_loss: 0.4394 - val_accuracy: 0.8779\n",
            "Epoch 16/20\n",
            "30/30 [==============================] - 1s 33ms/step - loss: 0.0028 - accuracy: 1.0000 - val_loss: 0.5248 - val_accuracy: 0.8819\n",
            "Epoch 17/20\n",
            "30/30 [==============================] - 1s 29ms/step - loss: 0.0010 - accuracy: 1.0000 - val_loss: 0.6066 - val_accuracy: 0.8816\n",
            "Epoch 18/20\n",
            "30/30 [==============================] - 1s 27ms/step - loss: 5.7887e-04 - accuracy: 1.0000 - val_loss: 0.6592 - val_accuracy: 0.8823\n",
            "Epoch 19/20\n",
            "30/30 [==============================] - 1s 28ms/step - loss: 3.8072e-04 - accuracy: 1.0000 - val_loss: 0.6943 - val_accuracy: 0.8806\n",
            "Epoch 20/20\n",
            "30/30 [==============================] - 1s 26ms/step - loss: 2.7505e-04 - accuracy: 1.0000 - val_loss: 0.7220 - val_accuracy: 0.8829\n"
          ]
        }
      ],
      "source": [
        "model = keras.Sequential([\n",
        "    layers.Dense(512, activation=\"relu\"),\n",
        "    layers.Dense(512, activation=\"relu\"),\n",
        "    layers.Dense(1, activation=\"sigmoid\")\n",
        "])\n",
        "model.compile(optimizer=\"rmsprop\",\n",
        "              loss=\"binary_crossentropy\",\n",
        "              metrics=[\"accuracy\"])\n",
        "history_larger_model = model.fit(\n",
        "    train_data, train_labels,\n",
        "    epochs=20, batch_size=512, validation_split=0.4)"
      ]
    },
    {
      "cell_type": "markdown",
      "source": [
        "practice in class"
      ],
      "metadata": {
        "id": "nqh5_5V2-ROa"
      }
    },
    {
      "cell_type": "code",
      "source": [
        "import matplotlib.pyplot as plt\n",
        "val_loss_orig = history_original.history[\"val_loss\"]\n",
        "val_loss__small = history_smaller_model.history[\"val_loss\"]\n",
        "val_loss__large = history_larger_model.history[\"val_loss\"]\n",
        "\n",
        "epochs = range(1, 21)\n",
        "\n",
        "plt.plot(epochs, val_loss_orig, \"b-\",\n",
        "         label=\"Validation loss of the original model\")\n",
        "plt.plot(epochs, val_loss__small, \"r--\",\n",
        "         label=\"Validation loss of the smaller model\")\n",
        "plt.plot(epochs, val_loss__large, \"g--\",\n",
        "         label=\"Validation loss of the larger model\")\n",
        "\n",
        "plt.plot()\n",
        "plt.title(\"Validation loss of the model\")\n",
        "plt.xlabel(\"Epochs\")\n",
        "plt.ylabel(\"Validation loss\")\n",
        "plt.legend()"
      ],
      "metadata": {
        "id": "07zJ8En8-V5V",
        "outputId": "9ed39874-806a-49b9-bf87-8609f304f00a",
        "colab": {
          "base_uri": "https://localhost:8080/",
          "height": 490
        }
      },
      "execution_count": 25,
      "outputs": [
        {
          "output_type": "execute_result",
          "data": {
            "text/plain": [
              "<matplotlib.legend.Legend at 0x7f0c4d25a5e0>"
            ]
          },
          "metadata": {},
          "execution_count": 25
        },
        {
          "output_type": "display_data",
          "data": {
            "text/plain": [
              "<Figure size 640x480 with 1 Axes>"
            ],
            "image/png": "[encoded data removed]"
          },
          "metadata": {}
        }
      ]
    },
    {
      "cell_type": "markdown",
      "metadata": {
        "id": "6ioKbl_cxWG0"
      },
      "source": [
        "#### Adding weight regularization"
      ]
    },
    {
      "cell_type": "markdown",
      "metadata": {
        "id": "3_b9-_KsxWG2"
      },
      "source": [
        "**Adding L2 weight regularization to the model**"
      ]
    },
    {
      "cell_type": "code",
      "execution_count": null,
      "metadata": {
        "id": "XxStfovFxWG4"
      },
      "outputs": [],
      "source": [
        "from tensorflow.keras import regularizers\n",
        "model = keras.Sequential([\n",
        "    layers.Dense(16,\n",
        "                 kernel_regularizer=regularizers.l2(0.002),\n",
        "                 activation=\"relu\"),\n",
        "    layers.Dense(16,\n",
        "                 kernel_regularizer=regularizers.l2(0.002),\n",
        "                 activation=\"relu\"),\n",
        "    layers.Dense(1, activation=\"sigmoid\")\n",
        "])\n",
        "model.compile(optimizer=\"rmsprop\",\n",
        "              loss=\"binary_crossentropy\",\n",
        "              metrics=[\"accuracy\"])\n",
        "history_l2_reg = model.fit(\n",
        "    train_data, train_labels,\n",
        "    epochs=20, batch_size=512, validation_split=0.4)"
      ]
    },
    {
      "cell_type": "markdown",
      "metadata": {
        "id": "9IJCKNROxWG4"
      },
      "source": [
        "**Different weight regularizers available in Keras**"
      ]
    },
    {
      "cell_type": "code",
      "execution_count": null,
      "metadata": {
        "id": "dGmOtoNDxWG5"
      },
      "outputs": [],
      "source": [
        "from tensorflow.keras import regularizers\n",
        "regularizers.l1(0.001)\n",
        "regularizers.l1_l2(l1=0.001, l2=0.001)"
      ]
    },
    {
      "cell_type": "markdown",
      "metadata": {
        "id": "ztU1XomPxWG5"
      },
      "source": [
        "#### Adding dropout"
      ]
    },
    {
      "cell_type": "markdown",
      "metadata": {
        "id": "nTWJZyNaxWG6"
      },
      "source": [
        "**Adding dropout to the IMDB model**"
      ]
    },
    {
      "cell_type": "code",
      "execution_count": 30,
      "metadata": {
        "id": "rqsjpsUHxWG6",
        "outputId": "af58dc1f-fc67-4954-93e6-95a5e6391c88",
        "colab": {
          "base_uri": "https://localhost:8080/"
        }
      },
      "outputs": [
        {
          "output_type": "stream",
          "name": "stdout",
          "text": [
            "Epoch 1/20\n",
            "30/30 [==============================] - 3s 55ms/step - loss: 0.6626 - accuracy: 0.5957 - val_loss: 0.5913 - val_accuracy: 0.7844\n",
            "Epoch 2/20\n",
            "30/30 [==============================] - 1s 26ms/step - loss: 0.5753 - accuracy: 0.7103 - val_loss: 0.4808 - val_accuracy: 0.8628\n",
            "Epoch 3/20\n",
            "30/30 [==============================] - 1s 41ms/step - loss: 0.4966 - accuracy: 0.7710 - val_loss: 0.4188 - val_accuracy: 0.8748\n",
            "Epoch 4/20\n",
            "30/30 [==============================] - 1s 24ms/step - loss: 0.4336 - accuracy: 0.8123 - val_loss: 0.3384 - val_accuracy: 0.8805\n",
            "Epoch 5/20\n",
            "30/30 [==============================] - 1s 22ms/step - loss: 0.3767 - accuracy: 0.8504 - val_loss: 0.3081 - val_accuracy: 0.8853\n",
            "Epoch 6/20\n",
            "30/30 [==============================] - 1s 25ms/step - loss: 0.3326 - accuracy: 0.8746 - val_loss: 0.2973 - val_accuracy: 0.8864\n",
            "Epoch 7/20\n",
            "30/30 [==============================] - 1s 23ms/step - loss: 0.2951 - accuracy: 0.8949 - val_loss: 0.2929 - val_accuracy: 0.8862\n",
            "Epoch 8/20\n",
            "30/30 [==============================] - 1s 25ms/step - loss: 0.2643 - accuracy: 0.9123 - val_loss: 0.2801 - val_accuracy: 0.8910\n",
            "Epoch 9/20\n",
            "30/30 [==============================] - 1s 22ms/step - loss: 0.2405 - accuracy: 0.9259 - val_loss: 0.2841 - val_accuracy: 0.8903\n",
            "Epoch 10/20\n",
            "30/30 [==============================] - 1s 22ms/step - loss: 0.2141 - accuracy: 0.9337 - val_loss: 0.2967 - val_accuracy: 0.8903\n",
            "Epoch 11/20\n",
            "30/30 [==============================] - 1s 25ms/step - loss: 0.1993 - accuracy: 0.9412 - val_loss: 0.3010 - val_accuracy: 0.8889\n",
            "Epoch 12/20\n",
            "30/30 [==============================] - 1s 22ms/step - loss: 0.1775 - accuracy: 0.9488 - val_loss: 0.3139 - val_accuracy: 0.8872\n",
            "Epoch 13/20\n",
            "30/30 [==============================] - 1s 25ms/step - loss: 0.1631 - accuracy: 0.9556 - val_loss: 0.3375 - val_accuracy: 0.8845\n",
            "Epoch 14/20\n",
            "30/30 [==============================] - 1s 25ms/step - loss: 0.1502 - accuracy: 0.9587 - val_loss: 0.3490 - val_accuracy: 0.8866\n",
            "Epoch 15/20\n",
            "30/30 [==============================] - 1s 22ms/step - loss: 0.1360 - accuracy: 0.9645 - val_loss: 0.4117 - val_accuracy: 0.8875\n",
            "Epoch 16/20\n",
            "30/30 [==============================] - 1s 26ms/step - loss: 0.1254 - accuracy: 0.9652 - val_loss: 0.4549 - val_accuracy: 0.8847\n",
            "Epoch 17/20\n",
            "30/30 [==============================] - 1s 23ms/step - loss: 0.1195 - accuracy: 0.9682 - val_loss: 0.4171 - val_accuracy: 0.8827\n",
            "Epoch 18/20\n",
            "30/30 [==============================] - 1s 36ms/step - loss: 0.1080 - accuracy: 0.9705 - val_loss: 0.4522 - val_accuracy: 0.8834\n",
            "Epoch 19/20\n",
            "30/30 [==============================] - 1s 28ms/step - loss: 0.1055 - accuracy: 0.9706 - val_loss: 0.4959 - val_accuracy: 0.8826\n",
            "Epoch 20/20\n",
            "30/30 [==============================] - 1s 26ms/step - loss: 0.0984 - accuracy: 0.9746 - val_loss: 0.4758 - val_accuracy: 0.8817\n"
          ]
        }
      ],
      "source": [
        "model = keras.Sequential([\n",
        "    layers.Dense(16, activation=\"relu\"),\n",
        "    layers.Dropout(0.5),\n",
        "    layers.Dense(16, activation=\"relu\"),\n",
        "    layers.Dropout(0.5),\n",
        "    layers.Dense(1, activation=\"sigmoid\")\n",
        "])\n",
        "model.compile(optimizer=\"rmsprop\",\n",
        "              loss=\"binary_crossentropy\",\n",
        "              metrics=[\"accuracy\"])\n",
        "history_dropout = model.fit(\n",
        "    train_data, train_labels,\n",
        "    epochs=20, batch_size=512, validation_split=0.4)"
      ]
    },
    {
      "cell_type": "markdown",
      "source": [
        "practice in class"
      ],
      "metadata": {
        "id": "1fpvsrB9_4PQ"
      }
    },
    {
      "cell_type": "code",
      "source": [
        "import matplotlib.pyplot as plt\n",
        "val_loss_orig_dropout = history_dropout.history[\"val_loss\"]\n",
        "val_loss_orig = history_original.history[\"val_loss\"]\n",
        "\n",
        "epochs = range(1, 21)\n",
        "\n",
        "plt.plot(epochs, val_loss_orig_dropout, \"b-\",\n",
        "         label=\"Validation loss of the original model with dropout\")\n",
        "plt.plot(epochs, val_loss_orig, \"r--\",\n",
        "         label=\"Validation loss of the original model\")\n",
        "\n",
        "plt.plot()\n",
        "plt.title(\"Validation loss of the original model with dorpout\")\n",
        "plt.xlabel(\"Epochs\")\n",
        "plt.ylabel(\"Validation loss\")\n",
        "plt.legend()"
      ],
      "metadata": {
        "id": "XZye0el-_8AA",
        "outputId": "dde6f6ae-e1e9-4f87-ef45-4d8f07040e22",
        "colab": {
          "base_uri": "https://localhost:8080/",
          "height": 490
        }
      },
      "execution_count": 32,
      "outputs": [
        {
          "output_type": "execute_result",
          "data": {
            "text/plain": [
              "<matplotlib.legend.Legend at 0x7f0c11333e20>"
            ]
          },
          "metadata": {},
          "execution_count": 32
        },
        {
          "output_type": "display_data",
          "data": {
            "text/plain": [
              "<Figure size 640x480 with 1 Axes>"
            ],
            "image/png": "[encoded data removed]"
          },
          "metadata": {}
        }
      ]
    },
    {
      "cell_type": "markdown",
      "metadata": {
        "id": "LEisK1OdxWG7"
      },
      "source": [
        "## Summary"
      ]
    }
  ],
  "metadata": {
    "colab": {
      "name": "chapter05_fundamentals-of-ml.i",
      "provenance": [],
      "toc_visible": true
    },
    "kernelspec": {
      "display_name": "Python 3",
      "language": "python",
      "name": "python3"
    },
    "language_info": {
      "codemirror_mode": {
        "name": "ipython",
        "version": 3
      },
      "file_extension": ".py",
      "mimetype": "text/x-python",
      "name": "python",
      "nbconvert_exporter": "python",
      "pygments_lexer": "ipython3",
      "version": "3.7.0"
    },
    "accelerator": "GPU",
    "gpuClass": "standard"
  },
  "nbformat": 4,
  "nbformat_minor": 0
}